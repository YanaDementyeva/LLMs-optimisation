{
  "nbformat": 4,
  "nbformat_minor": 0,
  "metadata": {
    "colab": {
      "provenance": [],
      "collapsed_sections": [
        "3TfDYjTzgnWU",
        "xa13XbHV5rft",
        "sOWOpFA5T61o",
        "UasOB8rfAZaW"
      ],
      "gpuType": "T4"
    },
    "kernelspec": {
      "name": "python3",
      "display_name": "Python 3"
    },
    "language_info": {
      "name": "python"
    },
    "widgets": {
      "application/vnd.jupyter.widget-state+json": {
        "f32f2867ec0d4b90a7f6d61ed22a6df8": {
          "model_module": "@jupyter-widgets/controls",
          "model_name": "HBoxModel",
          "model_module_version": "1.5.0",
          "state": {
            "_dom_classes": [],
            "_model_module": "@jupyter-widgets/controls",
            "_model_module_version": "1.5.0",
            "_model_name": "HBoxModel",
            "_view_count": null,
            "_view_module": "@jupyter-widgets/controls",
            "_view_module_version": "1.5.0",
            "_view_name": "HBoxView",
            "box_style": "",
            "children": [
              "IPY_MODEL_8eaecaacfffd43e0b71a1d5a351535d0",
              "IPY_MODEL_efa0c7b782e247e9b7b05be17f860b39",
              "IPY_MODEL_047655c661d9499facc4f26cd5260acb"
            ],
            "layout": "IPY_MODEL_2a163011428647ea87aface28e13c5a7"
          }
        },
        "8eaecaacfffd43e0b71a1d5a351535d0": {
          "model_module": "@jupyter-widgets/controls",
          "model_name": "HTMLModel",
          "model_module_version": "1.5.0",
          "state": {
            "_dom_classes": [],
            "_model_module": "@jupyter-widgets/controls",
            "_model_module_version": "1.5.0",
            "_model_name": "HTMLModel",
            "_view_count": null,
            "_view_module": "@jupyter-widgets/controls",
            "_view_module_version": "1.5.0",
            "_view_name": "HTMLView",
            "description": "",
            "description_tooltip": null,
            "layout": "IPY_MODEL_d33195a1c4c64f1caab6065674698e63",
            "placeholder": "​",
            "style": "IPY_MODEL_ea9b996a15f24cdea8238a569002c6af",
            "value": "tokenizer_config.json: 100%"
          }
        },
        "efa0c7b782e247e9b7b05be17f860b39": {
          "model_module": "@jupyter-widgets/controls",
          "model_name": "FloatProgressModel",
          "model_module_version": "1.5.0",
          "state": {
            "_dom_classes": [],
            "_model_module": "@jupyter-widgets/controls",
            "_model_module_version": "1.5.0",
            "_model_name": "FloatProgressModel",
            "_view_count": null,
            "_view_module": "@jupyter-widgets/controls",
            "_view_module_version": "1.5.0",
            "_view_name": "ProgressView",
            "bar_style": "success",
            "description": "",
            "description_tooltip": null,
            "layout": "IPY_MODEL_6847f9f1362d4b2b88f2857155539c93",
            "max": 24,
            "min": 0,
            "orientation": "horizontal",
            "style": "IPY_MODEL_0442a78ae49a498eb7ac1c7e57805f16",
            "value": 24
          }
        },
        "047655c661d9499facc4f26cd5260acb": {
          "model_module": "@jupyter-widgets/controls",
          "model_name": "HTMLModel",
          "model_module_version": "1.5.0",
          "state": {
            "_dom_classes": [],
            "_model_module": "@jupyter-widgets/controls",
            "_model_module_version": "1.5.0",
            "_model_name": "HTMLModel",
            "_view_count": null,
            "_view_module": "@jupyter-widgets/controls",
            "_view_module_version": "1.5.0",
            "_view_name": "HTMLView",
            "description": "",
            "description_tooltip": null,
            "layout": "IPY_MODEL_8fff745639d24cf5a354373bb7e1ffbf",
            "placeholder": "​",
            "style": "IPY_MODEL_34a5478ad9bc45c1b4651f80ae159313",
            "value": " 24.0/24.0 [00:00&lt;00:00, 2.35kB/s]"
          }
        },
        "2a163011428647ea87aface28e13c5a7": {
          "model_module": "@jupyter-widgets/base",
          "model_name": "LayoutModel",
          "model_module_version": "1.2.0",
          "state": {
            "_model_module": "@jupyter-widgets/base",
            "_model_module_version": "1.2.0",
            "_model_name": "LayoutModel",
            "_view_count": null,
            "_view_module": "@jupyter-widgets/base",
            "_view_module_version": "1.2.0",
            "_view_name": "LayoutView",
            "align_content": null,
            "align_items": null,
            "align_self": null,
            "border": null,
            "bottom": null,
            "display": null,
            "flex": null,
            "flex_flow": null,
            "grid_area": null,
            "grid_auto_columns": null,
            "grid_auto_flow": null,
            "grid_auto_rows": null,
            "grid_column": null,
            "grid_gap": null,
            "grid_row": null,
            "grid_template_areas": null,
            "grid_template_columns": null,
            "grid_template_rows": null,
            "height": null,
            "justify_content": null,
            "justify_items": null,
            "left": null,
            "margin": null,
            "max_height": null,
            "max_width": null,
            "min_height": null,
            "min_width": null,
            "object_fit": null,
            "object_position": null,
            "order": null,
            "overflow": null,
            "overflow_x": null,
            "overflow_y": null,
            "padding": null,
            "right": null,
            "top": null,
            "visibility": null,
            "width": null
          }
        },
        "d33195a1c4c64f1caab6065674698e63": {
          "model_module": "@jupyter-widgets/base",
          "model_name": "LayoutModel",
          "model_module_version": "1.2.0",
          "state": {
            "_model_module": "@jupyter-widgets/base",
            "_model_module_version": "1.2.0",
            "_model_name": "LayoutModel",
            "_view_count": null,
            "_view_module": "@jupyter-widgets/base",
            "_view_module_version": "1.2.0",
            "_view_name": "LayoutView",
            "align_content": null,
            "align_items": null,
            "align_self": null,
            "border": null,
            "bottom": null,
            "display": null,
            "flex": null,
            "flex_flow": null,
            "grid_area": null,
            "grid_auto_columns": null,
            "grid_auto_flow": null,
            "grid_auto_rows": null,
            "grid_column": null,
            "grid_gap": null,
            "grid_row": null,
            "grid_template_areas": null,
            "grid_template_columns": null,
            "grid_template_rows": null,
            "height": null,
            "justify_content": null,
            "justify_items": null,
            "left": null,
            "margin": null,
            "max_height": null,
            "max_width": null,
            "min_height": null,
            "min_width": null,
            "object_fit": null,
            "object_position": null,
            "order": null,
            "overflow": null,
            "overflow_x": null,
            "overflow_y": null,
            "padding": null,
            "right": null,
            "top": null,
            "visibility": null,
            "width": null
          }
        },
        "ea9b996a15f24cdea8238a569002c6af": {
          "model_module": "@jupyter-widgets/controls",
          "model_name": "DescriptionStyleModel",
          "model_module_version": "1.5.0",
          "state": {
            "_model_module": "@jupyter-widgets/controls",
            "_model_module_version": "1.5.0",
            "_model_name": "DescriptionStyleModel",
            "_view_count": null,
            "_view_module": "@jupyter-widgets/base",
            "_view_module_version": "1.2.0",
            "_view_name": "StyleView",
            "description_width": ""
          }
        },
        "6847f9f1362d4b2b88f2857155539c93": {
          "model_module": "@jupyter-widgets/base",
          "model_name": "LayoutModel",
          "model_module_version": "1.2.0",
          "state": {
            "_model_module": "@jupyter-widgets/base",
            "_model_module_version": "1.2.0",
            "_model_name": "LayoutModel",
            "_view_count": null,
            "_view_module": "@jupyter-widgets/base",
            "_view_module_version": "1.2.0",
            "_view_name": "LayoutView",
            "align_content": null,
            "align_items": null,
            "align_self": null,
            "border": null,
            "bottom": null,
            "display": null,
            "flex": null,
            "flex_flow": null,
            "grid_area": null,
            "grid_auto_columns": null,
            "grid_auto_flow": null,
            "grid_auto_rows": null,
            "grid_column": null,
            "grid_gap": null,
            "grid_row": null,
            "grid_template_areas": null,
            "grid_template_columns": null,
            "grid_template_rows": null,
            "height": null,
            "justify_content": null,
            "justify_items": null,
            "left": null,
            "margin": null,
            "max_height": null,
            "max_width": null,
            "min_height": null,
            "min_width": null,
            "object_fit": null,
            "object_position": null,
            "order": null,
            "overflow": null,
            "overflow_x": null,
            "overflow_y": null,
            "padding": null,
            "right": null,
            "top": null,
            "visibility": null,
            "width": null
          }
        },
        "0442a78ae49a498eb7ac1c7e57805f16": {
          "model_module": "@jupyter-widgets/controls",
          "model_name": "ProgressStyleModel",
          "model_module_version": "1.5.0",
          "state": {
            "_model_module": "@jupyter-widgets/controls",
            "_model_module_version": "1.5.0",
            "_model_name": "ProgressStyleModel",
            "_view_count": null,
            "_view_module": "@jupyter-widgets/base",
            "_view_module_version": "1.2.0",
            "_view_name": "StyleView",
            "bar_color": null,
            "description_width": ""
          }
        },
        "8fff745639d24cf5a354373bb7e1ffbf": {
          "model_module": "@jupyter-widgets/base",
          "model_name": "LayoutModel",
          "model_module_version": "1.2.0",
          "state": {
            "_model_module": "@jupyter-widgets/base",
            "_model_module_version": "1.2.0",
            "_model_name": "LayoutModel",
            "_view_count": null,
            "_view_module": "@jupyter-widgets/base",
            "_view_module_version": "1.2.0",
            "_view_name": "LayoutView",
            "align_content": null,
            "align_items": null,
            "align_self": null,
            "border": null,
            "bottom": null,
            "display": null,
            "flex": null,
            "flex_flow": null,
            "grid_area": null,
            "grid_auto_columns": null,
            "grid_auto_flow": null,
            "grid_auto_rows": null,
            "grid_column": null,
            "grid_gap": null,
            "grid_row": null,
            "grid_template_areas": null,
            "grid_template_columns": null,
            "grid_template_rows": null,
            "height": null,
            "justify_content": null,
            "justify_items": null,
            "left": null,
            "margin": null,
            "max_height": null,
            "max_width": null,
            "min_height": null,
            "min_width": null,
            "object_fit": null,
            "object_position": null,
            "order": null,
            "overflow": null,
            "overflow_x": null,
            "overflow_y": null,
            "padding": null,
            "right": null,
            "top": null,
            "visibility": null,
            "width": null
          }
        },
        "34a5478ad9bc45c1b4651f80ae159313": {
          "model_module": "@jupyter-widgets/controls",
          "model_name": "DescriptionStyleModel",
          "model_module_version": "1.5.0",
          "state": {
            "_model_module": "@jupyter-widgets/controls",
            "_model_module_version": "1.5.0",
            "_model_name": "DescriptionStyleModel",
            "_view_count": null,
            "_view_module": "@jupyter-widgets/base",
            "_view_module_version": "1.2.0",
            "_view_name": "StyleView",
            "description_width": ""
          }
        },
        "d2440db453b74b2b86035ebb60d3cef5": {
          "model_module": "@jupyter-widgets/controls",
          "model_name": "HBoxModel",
          "model_module_version": "1.5.0",
          "state": {
            "_dom_classes": [],
            "_model_module": "@jupyter-widgets/controls",
            "_model_module_version": "1.5.0",
            "_model_name": "HBoxModel",
            "_view_count": null,
            "_view_module": "@jupyter-widgets/controls",
            "_view_module_version": "1.5.0",
            "_view_name": "HBoxView",
            "box_style": "",
            "children": [
              "IPY_MODEL_fd050e244ad647a5bebbd05d81390987",
              "IPY_MODEL_6de9ed3029044e09a6a8946dc0597b39",
              "IPY_MODEL_8b4e78a24f6b47d88b4680331cde0cbb"
            ],
            "layout": "IPY_MODEL_dc160cdc233f4eac94239bffe7550015"
          }
        },
        "fd050e244ad647a5bebbd05d81390987": {
          "model_module": "@jupyter-widgets/controls",
          "model_name": "HTMLModel",
          "model_module_version": "1.5.0",
          "state": {
            "_dom_classes": [],
            "_model_module": "@jupyter-widgets/controls",
            "_model_module_version": "1.5.0",
            "_model_name": "HTMLModel",
            "_view_count": null,
            "_view_module": "@jupyter-widgets/controls",
            "_view_module_version": "1.5.0",
            "_view_name": "HTMLView",
            "description": "",
            "description_tooltip": null,
            "layout": "IPY_MODEL_6b9b59f55ecc47ac980ffd6c1532e38f",
            "placeholder": "​",
            "style": "IPY_MODEL_50998b2c46414c2f93b5e565418ab3b0",
            "value": "vocab.txt: 100%"
          }
        },
        "6de9ed3029044e09a6a8946dc0597b39": {
          "model_module": "@jupyter-widgets/controls",
          "model_name": "FloatProgressModel",
          "model_module_version": "1.5.0",
          "state": {
            "_dom_classes": [],
            "_model_module": "@jupyter-widgets/controls",
            "_model_module_version": "1.5.0",
            "_model_name": "FloatProgressModel",
            "_view_count": null,
            "_view_module": "@jupyter-widgets/controls",
            "_view_module_version": "1.5.0",
            "_view_name": "ProgressView",
            "bar_style": "success",
            "description": "",
            "description_tooltip": null,
            "layout": "IPY_MODEL_c0fc5777459e4dc685c9f1eaa8370b40",
            "max": 1649718,
            "min": 0,
            "orientation": "horizontal",
            "style": "IPY_MODEL_d3a5b64fc9c2442d976bd8d06e42da26",
            "value": 1649718
          }
        },
        "8b4e78a24f6b47d88b4680331cde0cbb": {
          "model_module": "@jupyter-widgets/controls",
          "model_name": "HTMLModel",
          "model_module_version": "1.5.0",
          "state": {
            "_dom_classes": [],
            "_model_module": "@jupyter-widgets/controls",
            "_model_module_version": "1.5.0",
            "_model_name": "HTMLModel",
            "_view_count": null,
            "_view_module": "@jupyter-widgets/controls",
            "_view_module_version": "1.5.0",
            "_view_name": "HTMLView",
            "description": "",
            "description_tooltip": null,
            "layout": "IPY_MODEL_421e7d159e3844be979eba8c214ec546",
            "placeholder": "​",
            "style": "IPY_MODEL_a2552e507b934e8fb8c7ca44d83cd2d8",
            "value": " 1.65M/1.65M [00:00&lt;00:00, 8.03MB/s]"
          }
        },
        "dc160cdc233f4eac94239bffe7550015": {
          "model_module": "@jupyter-widgets/base",
          "model_name": "LayoutModel",
          "model_module_version": "1.2.0",
          "state": {
            "_model_module": "@jupyter-widgets/base",
            "_model_module_version": "1.2.0",
            "_model_name": "LayoutModel",
            "_view_count": null,
            "_view_module": "@jupyter-widgets/base",
            "_view_module_version": "1.2.0",
            "_view_name": "LayoutView",
            "align_content": null,
            "align_items": null,
            "align_self": null,
            "border": null,
            "bottom": null,
            "display": null,
            "flex": null,
            "flex_flow": null,
            "grid_area": null,
            "grid_auto_columns": null,
            "grid_auto_flow": null,
            "grid_auto_rows": null,
            "grid_column": null,
            "grid_gap": null,
            "grid_row": null,
            "grid_template_areas": null,
            "grid_template_columns": null,
            "grid_template_rows": null,
            "height": null,
            "justify_content": null,
            "justify_items": null,
            "left": null,
            "margin": null,
            "max_height": null,
            "max_width": null,
            "min_height": null,
            "min_width": null,
            "object_fit": null,
            "object_position": null,
            "order": null,
            "overflow": null,
            "overflow_x": null,
            "overflow_y": null,
            "padding": null,
            "right": null,
            "top": null,
            "visibility": null,
            "width": null
          }
        },
        "6b9b59f55ecc47ac980ffd6c1532e38f": {
          "model_module": "@jupyter-widgets/base",
          "model_name": "LayoutModel",
          "model_module_version": "1.2.0",
          "state": {
            "_model_module": "@jupyter-widgets/base",
            "_model_module_version": "1.2.0",
            "_model_name": "LayoutModel",
            "_view_count": null,
            "_view_module": "@jupyter-widgets/base",
            "_view_module_version": "1.2.0",
            "_view_name": "LayoutView",
            "align_content": null,
            "align_items": null,
            "align_self": null,
            "border": null,
            "bottom": null,
            "display": null,
            "flex": null,
            "flex_flow": null,
            "grid_area": null,
            "grid_auto_columns": null,
            "grid_auto_flow": null,
            "grid_auto_rows": null,
            "grid_column": null,
            "grid_gap": null,
            "grid_row": null,
            "grid_template_areas": null,
            "grid_template_columns": null,
            "grid_template_rows": null,
            "height": null,
            "justify_content": null,
            "justify_items": null,
            "left": null,
            "margin": null,
            "max_height": null,
            "max_width": null,
            "min_height": null,
            "min_width": null,
            "object_fit": null,
            "object_position": null,
            "order": null,
            "overflow": null,
            "overflow_x": null,
            "overflow_y": null,
            "padding": null,
            "right": null,
            "top": null,
            "visibility": null,
            "width": null
          }
        },
        "50998b2c46414c2f93b5e565418ab3b0": {
          "model_module": "@jupyter-widgets/controls",
          "model_name": "DescriptionStyleModel",
          "model_module_version": "1.5.0",
          "state": {
            "_model_module": "@jupyter-widgets/controls",
            "_model_module_version": "1.5.0",
            "_model_name": "DescriptionStyleModel",
            "_view_count": null,
            "_view_module": "@jupyter-widgets/base",
            "_view_module_version": "1.2.0",
            "_view_name": "StyleView",
            "description_width": ""
          }
        },
        "c0fc5777459e4dc685c9f1eaa8370b40": {
          "model_module": "@jupyter-widgets/base",
          "model_name": "LayoutModel",
          "model_module_version": "1.2.0",
          "state": {
            "_model_module": "@jupyter-widgets/base",
            "_model_module_version": "1.2.0",
            "_model_name": "LayoutModel",
            "_view_count": null,
            "_view_module": "@jupyter-widgets/base",
            "_view_module_version": "1.2.0",
            "_view_name": "LayoutView",
            "align_content": null,
            "align_items": null,
            "align_self": null,
            "border": null,
            "bottom": null,
            "display": null,
            "flex": null,
            "flex_flow": null,
            "grid_area": null,
            "grid_auto_columns": null,
            "grid_auto_flow": null,
            "grid_auto_rows": null,
            "grid_column": null,
            "grid_gap": null,
            "grid_row": null,
            "grid_template_areas": null,
            "grid_template_columns": null,
            "grid_template_rows": null,
            "height": null,
            "justify_content": null,
            "justify_items": null,
            "left": null,
            "margin": null,
            "max_height": null,
            "max_width": null,
            "min_height": null,
            "min_width": null,
            "object_fit": null,
            "object_position": null,
            "order": null,
            "overflow": null,
            "overflow_x": null,
            "overflow_y": null,
            "padding": null,
            "right": null,
            "top": null,
            "visibility": null,
            "width": null
          }
        },
        "d3a5b64fc9c2442d976bd8d06e42da26": {
          "model_module": "@jupyter-widgets/controls",
          "model_name": "ProgressStyleModel",
          "model_module_version": "1.5.0",
          "state": {
            "_model_module": "@jupyter-widgets/controls",
            "_model_module_version": "1.5.0",
            "_model_name": "ProgressStyleModel",
            "_view_count": null,
            "_view_module": "@jupyter-widgets/base",
            "_view_module_version": "1.2.0",
            "_view_name": "StyleView",
            "bar_color": null,
            "description_width": ""
          }
        },
        "421e7d159e3844be979eba8c214ec546": {
          "model_module": "@jupyter-widgets/base",
          "model_name": "LayoutModel",
          "model_module_version": "1.2.0",
          "state": {
            "_model_module": "@jupyter-widgets/base",
            "_model_module_version": "1.2.0",
            "_model_name": "LayoutModel",
            "_view_count": null,
            "_view_module": "@jupyter-widgets/base",
            "_view_module_version": "1.2.0",
            "_view_name": "LayoutView",
            "align_content": null,
            "align_items": null,
            "align_self": null,
            "border": null,
            "bottom": null,
            "display": null,
            "flex": null,
            "flex_flow": null,
            "grid_area": null,
            "grid_auto_columns": null,
            "grid_auto_flow": null,
            "grid_auto_rows": null,
            "grid_column": null,
            "grid_gap": null,
            "grid_row": null,
            "grid_template_areas": null,
            "grid_template_columns": null,
            "grid_template_rows": null,
            "height": null,
            "justify_content": null,
            "justify_items": null,
            "left": null,
            "margin": null,
            "max_height": null,
            "max_width": null,
            "min_height": null,
            "min_width": null,
            "object_fit": null,
            "object_position": null,
            "order": null,
            "overflow": null,
            "overflow_x": null,
            "overflow_y": null,
            "padding": null,
            "right": null,
            "top": null,
            "visibility": null,
            "width": null
          }
        },
        "a2552e507b934e8fb8c7ca44d83cd2d8": {
          "model_module": "@jupyter-widgets/controls",
          "model_name": "DescriptionStyleModel",
          "model_module_version": "1.5.0",
          "state": {
            "_model_module": "@jupyter-widgets/controls",
            "_model_module_version": "1.5.0",
            "_model_name": "DescriptionStyleModel",
            "_view_count": null,
            "_view_module": "@jupyter-widgets/base",
            "_view_module_version": "1.2.0",
            "_view_name": "StyleView",
            "description_width": ""
          }
        },
        "055a404ae04b487ea5966dd990871e1c": {
          "model_module": "@jupyter-widgets/controls",
          "model_name": "HBoxModel",
          "model_module_version": "1.5.0",
          "state": {
            "_dom_classes": [],
            "_model_module": "@jupyter-widgets/controls",
            "_model_module_version": "1.5.0",
            "_model_name": "HBoxModel",
            "_view_count": null,
            "_view_module": "@jupyter-widgets/controls",
            "_view_module_version": "1.5.0",
            "_view_name": "HBoxView",
            "box_style": "",
            "children": [
              "IPY_MODEL_a60dec2363d2469dac6f41b228ed7cb4",
              "IPY_MODEL_236723cae6914745a41d1f9ae308cdb1",
              "IPY_MODEL_8f02b3732fd94b32bec587a6e338fcf1"
            ],
            "layout": "IPY_MODEL_b212fd2321854f4fb2d9533ba5dcf5dd"
          }
        },
        "a60dec2363d2469dac6f41b228ed7cb4": {
          "model_module": "@jupyter-widgets/controls",
          "model_name": "HTMLModel",
          "model_module_version": "1.5.0",
          "state": {
            "_dom_classes": [],
            "_model_module": "@jupyter-widgets/controls",
            "_model_module_version": "1.5.0",
            "_model_name": "HTMLModel",
            "_view_count": null,
            "_view_module": "@jupyter-widgets/controls",
            "_view_module_version": "1.5.0",
            "_view_name": "HTMLView",
            "description": "",
            "description_tooltip": null,
            "layout": "IPY_MODEL_dc36f2dd7e314622a9b69ba99ff7923a",
            "placeholder": "​",
            "style": "IPY_MODEL_7b3106a375f747e49c0be77f340d56d5",
            "value": "special_tokens_map.json: 100%"
          }
        },
        "236723cae6914745a41d1f9ae308cdb1": {
          "model_module": "@jupyter-widgets/controls",
          "model_name": "FloatProgressModel",
          "model_module_version": "1.5.0",
          "state": {
            "_dom_classes": [],
            "_model_module": "@jupyter-widgets/controls",
            "_model_module_version": "1.5.0",
            "_model_name": "FloatProgressModel",
            "_view_count": null,
            "_view_module": "@jupyter-widgets/controls",
            "_view_module_version": "1.5.0",
            "_view_name": "ProgressView",
            "bar_style": "success",
            "description": "",
            "description_tooltip": null,
            "layout": "IPY_MODEL_dd05a86ae9224aa9a28a9e576d040d11",
            "max": 112,
            "min": 0,
            "orientation": "horizontal",
            "style": "IPY_MODEL_b784f7a454df498c835c1c8503af0c21",
            "value": 112
          }
        },
        "8f02b3732fd94b32bec587a6e338fcf1": {
          "model_module": "@jupyter-widgets/controls",
          "model_name": "HTMLModel",
          "model_module_version": "1.5.0",
          "state": {
            "_dom_classes": [],
            "_model_module": "@jupyter-widgets/controls",
            "_model_module_version": "1.5.0",
            "_model_name": "HTMLModel",
            "_view_count": null,
            "_view_module": "@jupyter-widgets/controls",
            "_view_module_version": "1.5.0",
            "_view_name": "HTMLView",
            "description": "",
            "description_tooltip": null,
            "layout": "IPY_MODEL_feb5abad628b4db6a5baa6fa44f22210",
            "placeholder": "​",
            "style": "IPY_MODEL_d2338a68775540219ef7826eb9e12d66",
            "value": " 112/112 [00:00&lt;00:00, 12.3kB/s]"
          }
        },
        "b212fd2321854f4fb2d9533ba5dcf5dd": {
          "model_module": "@jupyter-widgets/base",
          "model_name": "LayoutModel",
          "model_module_version": "1.2.0",
          "state": {
            "_model_module": "@jupyter-widgets/base",
            "_model_module_version": "1.2.0",
            "_model_name": "LayoutModel",
            "_view_count": null,
            "_view_module": "@jupyter-widgets/base",
            "_view_module_version": "1.2.0",
            "_view_name": "LayoutView",
            "align_content": null,
            "align_items": null,
            "align_self": null,
            "border": null,
            "bottom": null,
            "display": null,
            "flex": null,
            "flex_flow": null,
            "grid_area": null,
            "grid_auto_columns": null,
            "grid_auto_flow": null,
            "grid_auto_rows": null,
            "grid_column": null,
            "grid_gap": null,
            "grid_row": null,
            "grid_template_areas": null,
            "grid_template_columns": null,
            "grid_template_rows": null,
            "height": null,
            "justify_content": null,
            "justify_items": null,
            "left": null,
            "margin": null,
            "max_height": null,
            "max_width": null,
            "min_height": null,
            "min_width": null,
            "object_fit": null,
            "object_position": null,
            "order": null,
            "overflow": null,
            "overflow_x": null,
            "overflow_y": null,
            "padding": null,
            "right": null,
            "top": null,
            "visibility": null,
            "width": null
          }
        },
        "dc36f2dd7e314622a9b69ba99ff7923a": {
          "model_module": "@jupyter-widgets/base",
          "model_name": "LayoutModel",
          "model_module_version": "1.2.0",
          "state": {
            "_model_module": "@jupyter-widgets/base",
            "_model_module_version": "1.2.0",
            "_model_name": "LayoutModel",
            "_view_count": null,
            "_view_module": "@jupyter-widgets/base",
            "_view_module_version": "1.2.0",
            "_view_name": "LayoutView",
            "align_content": null,
            "align_items": null,
            "align_self": null,
            "border": null,
            "bottom": null,
            "display": null,
            "flex": null,
            "flex_flow": null,
            "grid_area": null,
            "grid_auto_columns": null,
            "grid_auto_flow": null,
            "grid_auto_rows": null,
            "grid_column": null,
            "grid_gap": null,
            "grid_row": null,
            "grid_template_areas": null,
            "grid_template_columns": null,
            "grid_template_rows": null,
            "height": null,
            "justify_content": null,
            "justify_items": null,
            "left": null,
            "margin": null,
            "max_height": null,
            "max_width": null,
            "min_height": null,
            "min_width": null,
            "object_fit": null,
            "object_position": null,
            "order": null,
            "overflow": null,
            "overflow_x": null,
            "overflow_y": null,
            "padding": null,
            "right": null,
            "top": null,
            "visibility": null,
            "width": null
          }
        },
        "7b3106a375f747e49c0be77f340d56d5": {
          "model_module": "@jupyter-widgets/controls",
          "model_name": "DescriptionStyleModel",
          "model_module_version": "1.5.0",
          "state": {
            "_model_module": "@jupyter-widgets/controls",
            "_model_module_version": "1.5.0",
            "_model_name": "DescriptionStyleModel",
            "_view_count": null,
            "_view_module": "@jupyter-widgets/base",
            "_view_module_version": "1.2.0",
            "_view_name": "StyleView",
            "description_width": ""
          }
        },
        "dd05a86ae9224aa9a28a9e576d040d11": {
          "model_module": "@jupyter-widgets/base",
          "model_name": "LayoutModel",
          "model_module_version": "1.2.0",
          "state": {
            "_model_module": "@jupyter-widgets/base",
            "_model_module_version": "1.2.0",
            "_model_name": "LayoutModel",
            "_view_count": null,
            "_view_module": "@jupyter-widgets/base",
            "_view_module_version": "1.2.0",
            "_view_name": "LayoutView",
            "align_content": null,
            "align_items": null,
            "align_self": null,
            "border": null,
            "bottom": null,
            "display": null,
            "flex": null,
            "flex_flow": null,
            "grid_area": null,
            "grid_auto_columns": null,
            "grid_auto_flow": null,
            "grid_auto_rows": null,
            "grid_column": null,
            "grid_gap": null,
            "grid_row": null,
            "grid_template_areas": null,
            "grid_template_columns": null,
            "grid_template_rows": null,
            "height": null,
            "justify_content": null,
            "justify_items": null,
            "left": null,
            "margin": null,
            "max_height": null,
            "max_width": null,
            "min_height": null,
            "min_width": null,
            "object_fit": null,
            "object_position": null,
            "order": null,
            "overflow": null,
            "overflow_x": null,
            "overflow_y": null,
            "padding": null,
            "right": null,
            "top": null,
            "visibility": null,
            "width": null
          }
        },
        "b784f7a454df498c835c1c8503af0c21": {
          "model_module": "@jupyter-widgets/controls",
          "model_name": "ProgressStyleModel",
          "model_module_version": "1.5.0",
          "state": {
            "_model_module": "@jupyter-widgets/controls",
            "_model_module_version": "1.5.0",
            "_model_name": "ProgressStyleModel",
            "_view_count": null,
            "_view_module": "@jupyter-widgets/base",
            "_view_module_version": "1.2.0",
            "_view_name": "StyleView",
            "bar_color": null,
            "description_width": ""
          }
        },
        "feb5abad628b4db6a5baa6fa44f22210": {
          "model_module": "@jupyter-widgets/base",
          "model_name": "LayoutModel",
          "model_module_version": "1.2.0",
          "state": {
            "_model_module": "@jupyter-widgets/base",
            "_model_module_version": "1.2.0",
            "_model_name": "LayoutModel",
            "_view_count": null,
            "_view_module": "@jupyter-widgets/base",
            "_view_module_version": "1.2.0",
            "_view_name": "LayoutView",
            "align_content": null,
            "align_items": null,
            "align_self": null,
            "border": null,
            "bottom": null,
            "display": null,
            "flex": null,
            "flex_flow": null,
            "grid_area": null,
            "grid_auto_columns": null,
            "grid_auto_flow": null,
            "grid_auto_rows": null,
            "grid_column": null,
            "grid_gap": null,
            "grid_row": null,
            "grid_template_areas": null,
            "grid_template_columns": null,
            "grid_template_rows": null,
            "height": null,
            "justify_content": null,
            "justify_items": null,
            "left": null,
            "margin": null,
            "max_height": null,
            "max_width": null,
            "min_height": null,
            "min_width": null,
            "object_fit": null,
            "object_position": null,
            "order": null,
            "overflow": null,
            "overflow_x": null,
            "overflow_y": null,
            "padding": null,
            "right": null,
            "top": null,
            "visibility": null,
            "width": null
          }
        },
        "d2338a68775540219ef7826eb9e12d66": {
          "model_module": "@jupyter-widgets/controls",
          "model_name": "DescriptionStyleModel",
          "model_module_version": "1.5.0",
          "state": {
            "_model_module": "@jupyter-widgets/controls",
            "_model_module_version": "1.5.0",
            "_model_name": "DescriptionStyleModel",
            "_view_count": null,
            "_view_module": "@jupyter-widgets/base",
            "_view_module_version": "1.2.0",
            "_view_name": "StyleView",
            "description_width": ""
          }
        },
        "6be9720efdc347cebbf8ac8eb5117e17": {
          "model_module": "@jupyter-widgets/controls",
          "model_name": "HBoxModel",
          "model_module_version": "1.5.0",
          "state": {
            "_dom_classes": [],
            "_model_module": "@jupyter-widgets/controls",
            "_model_module_version": "1.5.0",
            "_model_name": "HBoxModel",
            "_view_count": null,
            "_view_module": "@jupyter-widgets/controls",
            "_view_module_version": "1.5.0",
            "_view_name": "HBoxView",
            "box_style": "",
            "children": [
              "IPY_MODEL_112070dce4a44ae69a4ecadbff03cef7",
              "IPY_MODEL_6033e3b4e97f473dba89eea895f64293",
              "IPY_MODEL_8c6f13f4aa02423ba38cd3f87eafaca5"
            ],
            "layout": "IPY_MODEL_fe96dfbd47614bd7b71a2ead146b6f66"
          }
        },
        "112070dce4a44ae69a4ecadbff03cef7": {
          "model_module": "@jupyter-widgets/controls",
          "model_name": "HTMLModel",
          "model_module_version": "1.5.0",
          "state": {
            "_dom_classes": [],
            "_model_module": "@jupyter-widgets/controls",
            "_model_module_version": "1.5.0",
            "_model_name": "HTMLModel",
            "_view_count": null,
            "_view_module": "@jupyter-widgets/controls",
            "_view_module_version": "1.5.0",
            "_view_name": "HTMLView",
            "description": "",
            "description_tooltip": null,
            "layout": "IPY_MODEL_84f24b837654443284d0e32a5961cae1",
            "placeholder": "​",
            "style": "IPY_MODEL_fc6963df8f75490284205d45b1beb923",
            "value": "tokenizer_config.json: 100%"
          }
        },
        "6033e3b4e97f473dba89eea895f64293": {
          "model_module": "@jupyter-widgets/controls",
          "model_name": "FloatProgressModel",
          "model_module_version": "1.5.0",
          "state": {
            "_dom_classes": [],
            "_model_module": "@jupyter-widgets/controls",
            "_model_module_version": "1.5.0",
            "_model_name": "FloatProgressModel",
            "_view_count": null,
            "_view_module": "@jupyter-widgets/controls",
            "_view_module_version": "1.5.0",
            "_view_name": "ProgressView",
            "bar_style": "success",
            "description": "",
            "description_tooltip": null,
            "layout": "IPY_MODEL_d4c07fefbf2d4252b912b941fcd0f9f3",
            "max": 24,
            "min": 0,
            "orientation": "horizontal",
            "style": "IPY_MODEL_2501d7bc4af3406490a83a83f8bd48c6",
            "value": 24
          }
        },
        "8c6f13f4aa02423ba38cd3f87eafaca5": {
          "model_module": "@jupyter-widgets/controls",
          "model_name": "HTMLModel",
          "model_module_version": "1.5.0",
          "state": {
            "_dom_classes": [],
            "_model_module": "@jupyter-widgets/controls",
            "_model_module_version": "1.5.0",
            "_model_name": "HTMLModel",
            "_view_count": null,
            "_view_module": "@jupyter-widgets/controls",
            "_view_module_version": "1.5.0",
            "_view_name": "HTMLView",
            "description": "",
            "description_tooltip": null,
            "layout": "IPY_MODEL_4e09ff7ddf494b668b100138aa19f477",
            "placeholder": "​",
            "style": "IPY_MODEL_e07a1f04d1314f5db75d913e3cb8e267",
            "value": " 24.0/24.0 [00:00&lt;00:00, 1.40kB/s]"
          }
        },
        "fe96dfbd47614bd7b71a2ead146b6f66": {
          "model_module": "@jupyter-widgets/base",
          "model_name": "LayoutModel",
          "model_module_version": "1.2.0",
          "state": {
            "_model_module": "@jupyter-widgets/base",
            "_model_module_version": "1.2.0",
            "_model_name": "LayoutModel",
            "_view_count": null,
            "_view_module": "@jupyter-widgets/base",
            "_view_module_version": "1.2.0",
            "_view_name": "LayoutView",
            "align_content": null,
            "align_items": null,
            "align_self": null,
            "border": null,
            "bottom": null,
            "display": null,
            "flex": null,
            "flex_flow": null,
            "grid_area": null,
            "grid_auto_columns": null,
            "grid_auto_flow": null,
            "grid_auto_rows": null,
            "grid_column": null,
            "grid_gap": null,
            "grid_row": null,
            "grid_template_areas": null,
            "grid_template_columns": null,
            "grid_template_rows": null,
            "height": null,
            "justify_content": null,
            "justify_items": null,
            "left": null,
            "margin": null,
            "max_height": null,
            "max_width": null,
            "min_height": null,
            "min_width": null,
            "object_fit": null,
            "object_position": null,
            "order": null,
            "overflow": null,
            "overflow_x": null,
            "overflow_y": null,
            "padding": null,
            "right": null,
            "top": null,
            "visibility": null,
            "width": null
          }
        },
        "84f24b837654443284d0e32a5961cae1": {
          "model_module": "@jupyter-widgets/base",
          "model_name": "LayoutModel",
          "model_module_version": "1.2.0",
          "state": {
            "_model_module": "@jupyter-widgets/base",
            "_model_module_version": "1.2.0",
            "_model_name": "LayoutModel",
            "_view_count": null,
            "_view_module": "@jupyter-widgets/base",
            "_view_module_version": "1.2.0",
            "_view_name": "LayoutView",
            "align_content": null,
            "align_items": null,
            "align_self": null,
            "border": null,
            "bottom": null,
            "display": null,
            "flex": null,
            "flex_flow": null,
            "grid_area": null,
            "grid_auto_columns": null,
            "grid_auto_flow": null,
            "grid_auto_rows": null,
            "grid_column": null,
            "grid_gap": null,
            "grid_row": null,
            "grid_template_areas": null,
            "grid_template_columns": null,
            "grid_template_rows": null,
            "height": null,
            "justify_content": null,
            "justify_items": null,
            "left": null,
            "margin": null,
            "max_height": null,
            "max_width": null,
            "min_height": null,
            "min_width": null,
            "object_fit": null,
            "object_position": null,
            "order": null,
            "overflow": null,
            "overflow_x": null,
            "overflow_y": null,
            "padding": null,
            "right": null,
            "top": null,
            "visibility": null,
            "width": null
          }
        },
        "fc6963df8f75490284205d45b1beb923": {
          "model_module": "@jupyter-widgets/controls",
          "model_name": "DescriptionStyleModel",
          "model_module_version": "1.5.0",
          "state": {
            "_model_module": "@jupyter-widgets/controls",
            "_model_module_version": "1.5.0",
            "_model_name": "DescriptionStyleModel",
            "_view_count": null,
            "_view_module": "@jupyter-widgets/base",
            "_view_module_version": "1.2.0",
            "_view_name": "StyleView",
            "description_width": ""
          }
        },
        "d4c07fefbf2d4252b912b941fcd0f9f3": {
          "model_module": "@jupyter-widgets/base",
          "model_name": "LayoutModel",
          "model_module_version": "1.2.0",
          "state": {
            "_model_module": "@jupyter-widgets/base",
            "_model_module_version": "1.2.0",
            "_model_name": "LayoutModel",
            "_view_count": null,
            "_view_module": "@jupyter-widgets/base",
            "_view_module_version": "1.2.0",
            "_view_name": "LayoutView",
            "align_content": null,
            "align_items": null,
            "align_self": null,
            "border": null,
            "bottom": null,
            "display": null,
            "flex": null,
            "flex_flow": null,
            "grid_area": null,
            "grid_auto_columns": null,
            "grid_auto_flow": null,
            "grid_auto_rows": null,
            "grid_column": null,
            "grid_gap": null,
            "grid_row": null,
            "grid_template_areas": null,
            "grid_template_columns": null,
            "grid_template_rows": null,
            "height": null,
            "justify_content": null,
            "justify_items": null,
            "left": null,
            "margin": null,
            "max_height": null,
            "max_width": null,
            "min_height": null,
            "min_width": null,
            "object_fit": null,
            "object_position": null,
            "order": null,
            "overflow": null,
            "overflow_x": null,
            "overflow_y": null,
            "padding": null,
            "right": null,
            "top": null,
            "visibility": null,
            "width": null
          }
        },
        "2501d7bc4af3406490a83a83f8bd48c6": {
          "model_module": "@jupyter-widgets/controls",
          "model_name": "ProgressStyleModel",
          "model_module_version": "1.5.0",
          "state": {
            "_model_module": "@jupyter-widgets/controls",
            "_model_module_version": "1.5.0",
            "_model_name": "ProgressStyleModel",
            "_view_count": null,
            "_view_module": "@jupyter-widgets/base",
            "_view_module_version": "1.2.0",
            "_view_name": "StyleView",
            "bar_color": null,
            "description_width": ""
          }
        },
        "4e09ff7ddf494b668b100138aa19f477": {
          "model_module": "@jupyter-widgets/base",
          "model_name": "LayoutModel",
          "model_module_version": "1.2.0",
          "state": {
            "_model_module": "@jupyter-widgets/base",
            "_model_module_version": "1.2.0",
            "_model_name": "LayoutModel",
            "_view_count": null,
            "_view_module": "@jupyter-widgets/base",
            "_view_module_version": "1.2.0",
            "_view_name": "LayoutView",
            "align_content": null,
            "align_items": null,
            "align_self": null,
            "border": null,
            "bottom": null,
            "display": null,
            "flex": null,
            "flex_flow": null,
            "grid_area": null,
            "grid_auto_columns": null,
            "grid_auto_flow": null,
            "grid_auto_rows": null,
            "grid_column": null,
            "grid_gap": null,
            "grid_row": null,
            "grid_template_areas": null,
            "grid_template_columns": null,
            "grid_template_rows": null,
            "height": null,
            "justify_content": null,
            "justify_items": null,
            "left": null,
            "margin": null,
            "max_height": null,
            "max_width": null,
            "min_height": null,
            "min_width": null,
            "object_fit": null,
            "object_position": null,
            "order": null,
            "overflow": null,
            "overflow_x": null,
            "overflow_y": null,
            "padding": null,
            "right": null,
            "top": null,
            "visibility": null,
            "width": null
          }
        },
        "e07a1f04d1314f5db75d913e3cb8e267": {
          "model_module": "@jupyter-widgets/controls",
          "model_name": "DescriptionStyleModel",
          "model_module_version": "1.5.0",
          "state": {
            "_model_module": "@jupyter-widgets/controls",
            "_model_module_version": "1.5.0",
            "_model_name": "DescriptionStyleModel",
            "_view_count": null,
            "_view_module": "@jupyter-widgets/base",
            "_view_module_version": "1.2.0",
            "_view_name": "StyleView",
            "description_width": ""
          }
        },
        "8ac13f7ecd4b4de6b485847df05921a8": {
          "model_module": "@jupyter-widgets/controls",
          "model_name": "HBoxModel",
          "model_module_version": "1.5.0",
          "state": {
            "_dom_classes": [],
            "_model_module": "@jupyter-widgets/controls",
            "_model_module_version": "1.5.0",
            "_model_name": "HBoxModel",
            "_view_count": null,
            "_view_module": "@jupyter-widgets/controls",
            "_view_module_version": "1.5.0",
            "_view_name": "HBoxView",
            "box_style": "",
            "children": [
              "IPY_MODEL_9e6aceca00344983942c189fb53cbc65",
              "IPY_MODEL_800d8033224d4c3ea40b31055cf73d1b",
              "IPY_MODEL_17a58edfb7d647fe89e02924d46b7d8d"
            ],
            "layout": "IPY_MODEL_28db6f6746b2461fb7471a05819c780e"
          }
        },
        "9e6aceca00344983942c189fb53cbc65": {
          "model_module": "@jupyter-widgets/controls",
          "model_name": "HTMLModel",
          "model_module_version": "1.5.0",
          "state": {
            "_dom_classes": [],
            "_model_module": "@jupyter-widgets/controls",
            "_model_module_version": "1.5.0",
            "_model_name": "HTMLModel",
            "_view_count": null,
            "_view_module": "@jupyter-widgets/controls",
            "_view_module_version": "1.5.0",
            "_view_name": "HTMLView",
            "description": "",
            "description_tooltip": null,
            "layout": "IPY_MODEL_73a17a3a21db4440a1b8fbf2dfd6bc3c",
            "placeholder": "​",
            "style": "IPY_MODEL_6807b16ed7b84732af7a588e639a845b",
            "value": "vocab.txt: 100%"
          }
        },
        "800d8033224d4c3ea40b31055cf73d1b": {
          "model_module": "@jupyter-widgets/controls",
          "model_name": "FloatProgressModel",
          "model_module_version": "1.5.0",
          "state": {
            "_dom_classes": [],
            "_model_module": "@jupyter-widgets/controls",
            "_model_module_version": "1.5.0",
            "_model_name": "FloatProgressModel",
            "_view_count": null,
            "_view_module": "@jupyter-widgets/controls",
            "_view_module_version": "1.5.0",
            "_view_name": "ProgressView",
            "bar_style": "success",
            "description": "",
            "description_tooltip": null,
            "layout": "IPY_MODEL_a7aec6181bab4bc3ab9023a0144774d3",
            "max": 1649718,
            "min": 0,
            "orientation": "horizontal",
            "style": "IPY_MODEL_1c4b5670eb5640bf9b540d25272ba56d",
            "value": 1649718
          }
        },
        "17a58edfb7d647fe89e02924d46b7d8d": {
          "model_module": "@jupyter-widgets/controls",
          "model_name": "HTMLModel",
          "model_module_version": "1.5.0",
          "state": {
            "_dom_classes": [],
            "_model_module": "@jupyter-widgets/controls",
            "_model_module_version": "1.5.0",
            "_model_name": "HTMLModel",
            "_view_count": null,
            "_view_module": "@jupyter-widgets/controls",
            "_view_module_version": "1.5.0",
            "_view_name": "HTMLView",
            "description": "",
            "description_tooltip": null,
            "layout": "IPY_MODEL_73dc1d30d5784bed81551432da87fb9b",
            "placeholder": "​",
            "style": "IPY_MODEL_dc9685650c9d4e299213a76217901de2",
            "value": " 1.65M/1.65M [00:00&lt;00:00, 12.2MB/s]"
          }
        },
        "28db6f6746b2461fb7471a05819c780e": {
          "model_module": "@jupyter-widgets/base",
          "model_name": "LayoutModel",
          "model_module_version": "1.2.0",
          "state": {
            "_model_module": "@jupyter-widgets/base",
            "_model_module_version": "1.2.0",
            "_model_name": "LayoutModel",
            "_view_count": null,
            "_view_module": "@jupyter-widgets/base",
            "_view_module_version": "1.2.0",
            "_view_name": "LayoutView",
            "align_content": null,
            "align_items": null,
            "align_self": null,
            "border": null,
            "bottom": null,
            "display": null,
            "flex": null,
            "flex_flow": null,
            "grid_area": null,
            "grid_auto_columns": null,
            "grid_auto_flow": null,
            "grid_auto_rows": null,
            "grid_column": null,
            "grid_gap": null,
            "grid_row": null,
            "grid_template_areas": null,
            "grid_template_columns": null,
            "grid_template_rows": null,
            "height": null,
            "justify_content": null,
            "justify_items": null,
            "left": null,
            "margin": null,
            "max_height": null,
            "max_width": null,
            "min_height": null,
            "min_width": null,
            "object_fit": null,
            "object_position": null,
            "order": null,
            "overflow": null,
            "overflow_x": null,
            "overflow_y": null,
            "padding": null,
            "right": null,
            "top": null,
            "visibility": null,
            "width": null
          }
        },
        "73a17a3a21db4440a1b8fbf2dfd6bc3c": {
          "model_module": "@jupyter-widgets/base",
          "model_name": "LayoutModel",
          "model_module_version": "1.2.0",
          "state": {
            "_model_module": "@jupyter-widgets/base",
            "_model_module_version": "1.2.0",
            "_model_name": "LayoutModel",
            "_view_count": null,
            "_view_module": "@jupyter-widgets/base",
            "_view_module_version": "1.2.0",
            "_view_name": "LayoutView",
            "align_content": null,
            "align_items": null,
            "align_self": null,
            "border": null,
            "bottom": null,
            "display": null,
            "flex": null,
            "flex_flow": null,
            "grid_area": null,
            "grid_auto_columns": null,
            "grid_auto_flow": null,
            "grid_auto_rows": null,
            "grid_column": null,
            "grid_gap": null,
            "grid_row": null,
            "grid_template_areas": null,
            "grid_template_columns": null,
            "grid_template_rows": null,
            "height": null,
            "justify_content": null,
            "justify_items": null,
            "left": null,
            "margin": null,
            "max_height": null,
            "max_width": null,
            "min_height": null,
            "min_width": null,
            "object_fit": null,
            "object_position": null,
            "order": null,
            "overflow": null,
            "overflow_x": null,
            "overflow_y": null,
            "padding": null,
            "right": null,
            "top": null,
            "visibility": null,
            "width": null
          }
        },
        "6807b16ed7b84732af7a588e639a845b": {
          "model_module": "@jupyter-widgets/controls",
          "model_name": "DescriptionStyleModel",
          "model_module_version": "1.5.0",
          "state": {
            "_model_module": "@jupyter-widgets/controls",
            "_model_module_version": "1.5.0",
            "_model_name": "DescriptionStyleModel",
            "_view_count": null,
            "_view_module": "@jupyter-widgets/base",
            "_view_module_version": "1.2.0",
            "_view_name": "StyleView",
            "description_width": ""
          }
        },
        "a7aec6181bab4bc3ab9023a0144774d3": {
          "model_module": "@jupyter-widgets/base",
          "model_name": "LayoutModel",
          "model_module_version": "1.2.0",
          "state": {
            "_model_module": "@jupyter-widgets/base",
            "_model_module_version": "1.2.0",
            "_model_name": "LayoutModel",
            "_view_count": null,
            "_view_module": "@jupyter-widgets/base",
            "_view_module_version": "1.2.0",
            "_view_name": "LayoutView",
            "align_content": null,
            "align_items": null,
            "align_self": null,
            "border": null,
            "bottom": null,
            "display": null,
            "flex": null,
            "flex_flow": null,
            "grid_area": null,
            "grid_auto_columns": null,
            "grid_auto_flow": null,
            "grid_auto_rows": null,
            "grid_column": null,
            "grid_gap": null,
            "grid_row": null,
            "grid_template_areas": null,
            "grid_template_columns": null,
            "grid_template_rows": null,
            "height": null,
            "justify_content": null,
            "justify_items": null,
            "left": null,
            "margin": null,
            "max_height": null,
            "max_width": null,
            "min_height": null,
            "min_width": null,
            "object_fit": null,
            "object_position": null,
            "order": null,
            "overflow": null,
            "overflow_x": null,
            "overflow_y": null,
            "padding": null,
            "right": null,
            "top": null,
            "visibility": null,
            "width": null
          }
        },
        "1c4b5670eb5640bf9b540d25272ba56d": {
          "model_module": "@jupyter-widgets/controls",
          "model_name": "ProgressStyleModel",
          "model_module_version": "1.5.0",
          "state": {
            "_model_module": "@jupyter-widgets/controls",
            "_model_module_version": "1.5.0",
            "_model_name": "ProgressStyleModel",
            "_view_count": null,
            "_view_module": "@jupyter-widgets/base",
            "_view_module_version": "1.2.0",
            "_view_name": "StyleView",
            "bar_color": null,
            "description_width": ""
          }
        },
        "73dc1d30d5784bed81551432da87fb9b": {
          "model_module": "@jupyter-widgets/base",
          "model_name": "LayoutModel",
          "model_module_version": "1.2.0",
          "state": {
            "_model_module": "@jupyter-widgets/base",
            "_model_module_version": "1.2.0",
            "_model_name": "LayoutModel",
            "_view_count": null,
            "_view_module": "@jupyter-widgets/base",
            "_view_module_version": "1.2.0",
            "_view_name": "LayoutView",
            "align_content": null,
            "align_items": null,
            "align_self": null,
            "border": null,
            "bottom": null,
            "display": null,
            "flex": null,
            "flex_flow": null,
            "grid_area": null,
            "grid_auto_columns": null,
            "grid_auto_flow": null,
            "grid_auto_rows": null,
            "grid_column": null,
            "grid_gap": null,
            "grid_row": null,
            "grid_template_areas": null,
            "grid_template_columns": null,
            "grid_template_rows": null,
            "height": null,
            "justify_content": null,
            "justify_items": null,
            "left": null,
            "margin": null,
            "max_height": null,
            "max_width": null,
            "min_height": null,
            "min_width": null,
            "object_fit": null,
            "object_position": null,
            "order": null,
            "overflow": null,
            "overflow_x": null,
            "overflow_y": null,
            "padding": null,
            "right": null,
            "top": null,
            "visibility": null,
            "width": null
          }
        },
        "dc9685650c9d4e299213a76217901de2": {
          "model_module": "@jupyter-widgets/controls",
          "model_name": "DescriptionStyleModel",
          "model_module_version": "1.5.0",
          "state": {
            "_model_module": "@jupyter-widgets/controls",
            "_model_module_version": "1.5.0",
            "_model_name": "DescriptionStyleModel",
            "_view_count": null,
            "_view_module": "@jupyter-widgets/base",
            "_view_module_version": "1.2.0",
            "_view_name": "StyleView",
            "description_width": ""
          }
        },
        "c35eb9200bbc41da8e5c00994d547963": {
          "model_module": "@jupyter-widgets/controls",
          "model_name": "HBoxModel",
          "model_module_version": "1.5.0",
          "state": {
            "_dom_classes": [],
            "_model_module": "@jupyter-widgets/controls",
            "_model_module_version": "1.5.0",
            "_model_name": "HBoxModel",
            "_view_count": null,
            "_view_module": "@jupyter-widgets/controls",
            "_view_module_version": "1.5.0",
            "_view_name": "HBoxView",
            "box_style": "",
            "children": [
              "IPY_MODEL_e05c9c9173734576a3b7bc2e41557f7c",
              "IPY_MODEL_7297d958d1b04f2cabcec589bdfdb524",
              "IPY_MODEL_6bdb9cf2b25540d68c3a6027061ab8fd"
            ],
            "layout": "IPY_MODEL_4b5c59ccb7bf44438477e8eca42d27c4"
          }
        },
        "e05c9c9173734576a3b7bc2e41557f7c": {
          "model_module": "@jupyter-widgets/controls",
          "model_name": "HTMLModel",
          "model_module_version": "1.5.0",
          "state": {
            "_dom_classes": [],
            "_model_module": "@jupyter-widgets/controls",
            "_model_module_version": "1.5.0",
            "_model_name": "HTMLModel",
            "_view_count": null,
            "_view_module": "@jupyter-widgets/controls",
            "_view_module_version": "1.5.0",
            "_view_name": "HTMLView",
            "description": "",
            "description_tooltip": null,
            "layout": "IPY_MODEL_d023dfdd229c48d287c3288ceed1a5a0",
            "placeholder": "​",
            "style": "IPY_MODEL_de21b468c7b24c089baee06cf07bd15c",
            "value": "special_tokens_map.json: 100%"
          }
        },
        "7297d958d1b04f2cabcec589bdfdb524": {
          "model_module": "@jupyter-widgets/controls",
          "model_name": "FloatProgressModel",
          "model_module_version": "1.5.0",
          "state": {
            "_dom_classes": [],
            "_model_module": "@jupyter-widgets/controls",
            "_model_module_version": "1.5.0",
            "_model_name": "FloatProgressModel",
            "_view_count": null,
            "_view_module": "@jupyter-widgets/controls",
            "_view_module_version": "1.5.0",
            "_view_name": "ProgressView",
            "bar_style": "success",
            "description": "",
            "description_tooltip": null,
            "layout": "IPY_MODEL_3266f0eddc40496d8b8a3b6c96fe6c97",
            "max": 112,
            "min": 0,
            "orientation": "horizontal",
            "style": "IPY_MODEL_7f605fdfaa444207a66ce0f7252d1212",
            "value": 112
          }
        },
        "6bdb9cf2b25540d68c3a6027061ab8fd": {
          "model_module": "@jupyter-widgets/controls",
          "model_name": "HTMLModel",
          "model_module_version": "1.5.0",
          "state": {
            "_dom_classes": [],
            "_model_module": "@jupyter-widgets/controls",
            "_model_module_version": "1.5.0",
            "_model_name": "HTMLModel",
            "_view_count": null,
            "_view_module": "@jupyter-widgets/controls",
            "_view_module_version": "1.5.0",
            "_view_name": "HTMLView",
            "description": "",
            "description_tooltip": null,
            "layout": "IPY_MODEL_fc183d4b102441e0bf6e538c9b7df6ea",
            "placeholder": "​",
            "style": "IPY_MODEL_c62a3e3fd8dd4ab09a6d008eb6bd9798",
            "value": " 112/112 [00:00&lt;00:00, 2.33kB/s]"
          }
        },
        "4b5c59ccb7bf44438477e8eca42d27c4": {
          "model_module": "@jupyter-widgets/base",
          "model_name": "LayoutModel",
          "model_module_version": "1.2.0",
          "state": {
            "_model_module": "@jupyter-widgets/base",
            "_model_module_version": "1.2.0",
            "_model_name": "LayoutModel",
            "_view_count": null,
            "_view_module": "@jupyter-widgets/base",
            "_view_module_version": "1.2.0",
            "_view_name": "LayoutView",
            "align_content": null,
            "align_items": null,
            "align_self": null,
            "border": null,
            "bottom": null,
            "display": null,
            "flex": null,
            "flex_flow": null,
            "grid_area": null,
            "grid_auto_columns": null,
            "grid_auto_flow": null,
            "grid_auto_rows": null,
            "grid_column": null,
            "grid_gap": null,
            "grid_row": null,
            "grid_template_areas": null,
            "grid_template_columns": null,
            "grid_template_rows": null,
            "height": null,
            "justify_content": null,
            "justify_items": null,
            "left": null,
            "margin": null,
            "max_height": null,
            "max_width": null,
            "min_height": null,
            "min_width": null,
            "object_fit": null,
            "object_position": null,
            "order": null,
            "overflow": null,
            "overflow_x": null,
            "overflow_y": null,
            "padding": null,
            "right": null,
            "top": null,
            "visibility": null,
            "width": null
          }
        },
        "d023dfdd229c48d287c3288ceed1a5a0": {
          "model_module": "@jupyter-widgets/base",
          "model_name": "LayoutModel",
          "model_module_version": "1.2.0",
          "state": {
            "_model_module": "@jupyter-widgets/base",
            "_model_module_version": "1.2.0",
            "_model_name": "LayoutModel",
            "_view_count": null,
            "_view_module": "@jupyter-widgets/base",
            "_view_module_version": "1.2.0",
            "_view_name": "LayoutView",
            "align_content": null,
            "align_items": null,
            "align_self": null,
            "border": null,
            "bottom": null,
            "display": null,
            "flex": null,
            "flex_flow": null,
            "grid_area": null,
            "grid_auto_columns": null,
            "grid_auto_flow": null,
            "grid_auto_rows": null,
            "grid_column": null,
            "grid_gap": null,
            "grid_row": null,
            "grid_template_areas": null,
            "grid_template_columns": null,
            "grid_template_rows": null,
            "height": null,
            "justify_content": null,
            "justify_items": null,
            "left": null,
            "margin": null,
            "max_height": null,
            "max_width": null,
            "min_height": null,
            "min_width": null,
            "object_fit": null,
            "object_position": null,
            "order": null,
            "overflow": null,
            "overflow_x": null,
            "overflow_y": null,
            "padding": null,
            "right": null,
            "top": null,
            "visibility": null,
            "width": null
          }
        },
        "de21b468c7b24c089baee06cf07bd15c": {
          "model_module": "@jupyter-widgets/controls",
          "model_name": "DescriptionStyleModel",
          "model_module_version": "1.5.0",
          "state": {
            "_model_module": "@jupyter-widgets/controls",
            "_model_module_version": "1.5.0",
            "_model_name": "DescriptionStyleModel",
            "_view_count": null,
            "_view_module": "@jupyter-widgets/base",
            "_view_module_version": "1.2.0",
            "_view_name": "StyleView",
            "description_width": ""
          }
        },
        "3266f0eddc40496d8b8a3b6c96fe6c97": {
          "model_module": "@jupyter-widgets/base",
          "model_name": "LayoutModel",
          "model_module_version": "1.2.0",
          "state": {
            "_model_module": "@jupyter-widgets/base",
            "_model_module_version": "1.2.0",
            "_model_name": "LayoutModel",
            "_view_count": null,
            "_view_module": "@jupyter-widgets/base",
            "_view_module_version": "1.2.0",
            "_view_name": "LayoutView",
            "align_content": null,
            "align_items": null,
            "align_self": null,
            "border": null,
            "bottom": null,
            "display": null,
            "flex": null,
            "flex_flow": null,
            "grid_area": null,
            "grid_auto_columns": null,
            "grid_auto_flow": null,
            "grid_auto_rows": null,
            "grid_column": null,
            "grid_gap": null,
            "grid_row": null,
            "grid_template_areas": null,
            "grid_template_columns": null,
            "grid_template_rows": null,
            "height": null,
            "justify_content": null,
            "justify_items": null,
            "left": null,
            "margin": null,
            "max_height": null,
            "max_width": null,
            "min_height": null,
            "min_width": null,
            "object_fit": null,
            "object_position": null,
            "order": null,
            "overflow": null,
            "overflow_x": null,
            "overflow_y": null,
            "padding": null,
            "right": null,
            "top": null,
            "visibility": null,
            "width": null
          }
        },
        "7f605fdfaa444207a66ce0f7252d1212": {
          "model_module": "@jupyter-widgets/controls",
          "model_name": "ProgressStyleModel",
          "model_module_version": "1.5.0",
          "state": {
            "_model_module": "@jupyter-widgets/controls",
            "_model_module_version": "1.5.0",
            "_model_name": "ProgressStyleModel",
            "_view_count": null,
            "_view_module": "@jupyter-widgets/base",
            "_view_module_version": "1.2.0",
            "_view_name": "StyleView",
            "bar_color": null,
            "description_width": ""
          }
        },
        "fc183d4b102441e0bf6e538c9b7df6ea": {
          "model_module": "@jupyter-widgets/base",
          "model_name": "LayoutModel",
          "model_module_version": "1.2.0",
          "state": {
            "_model_module": "@jupyter-widgets/base",
            "_model_module_version": "1.2.0",
            "_model_name": "LayoutModel",
            "_view_count": null,
            "_view_module": "@jupyter-widgets/base",
            "_view_module_version": "1.2.0",
            "_view_name": "LayoutView",
            "align_content": null,
            "align_items": null,
            "align_self": null,
            "border": null,
            "bottom": null,
            "display": null,
            "flex": null,
            "flex_flow": null,
            "grid_area": null,
            "grid_auto_columns": null,
            "grid_auto_flow": null,
            "grid_auto_rows": null,
            "grid_column": null,
            "grid_gap": null,
            "grid_row": null,
            "grid_template_areas": null,
            "grid_template_columns": null,
            "grid_template_rows": null,
            "height": null,
            "justify_content": null,
            "justify_items": null,
            "left": null,
            "margin": null,
            "max_height": null,
            "max_width": null,
            "min_height": null,
            "min_width": null,
            "object_fit": null,
            "object_position": null,
            "order": null,
            "overflow": null,
            "overflow_x": null,
            "overflow_y": null,
            "padding": null,
            "right": null,
            "top": null,
            "visibility": null,
            "width": null
          }
        },
        "c62a3e3fd8dd4ab09a6d008eb6bd9798": {
          "model_module": "@jupyter-widgets/controls",
          "model_name": "DescriptionStyleModel",
          "model_module_version": "1.5.0",
          "state": {
            "_model_module": "@jupyter-widgets/controls",
            "_model_module_version": "1.5.0",
            "_model_name": "DescriptionStyleModel",
            "_view_count": null,
            "_view_module": "@jupyter-widgets/base",
            "_view_module_version": "1.2.0",
            "_view_name": "StyleView",
            "description_width": ""
          }
        }
      }
    },
    "accelerator": "GPU"
  },
  "cells": [
    {
      "cell_type": "markdown",
      "source": [
        "## Dataset preparing"
      ],
      "metadata": {
        "id": "3TfDYjTzgnWU"
      }
    },
    {
      "cell_type": "code",
      "source": [
        "from lxml import etree\n",
        "from typing import List, Tuple, Optional\n",
        "\n",
        "\n",
        "def load_sentirueval_2016(file_name: str) -> Tuple[List[str], List[str]]:\n",
        "    \"\"\"Load texts and labels from SentiRuEval 2016 XML file.\"\"\"\n",
        "    root = _read_xml_file(file_name)\n",
        "    database = _find_first_database(root)\n",
        "    texts, labels = _process_database_tables(database, file_name)\n",
        "    return texts, labels\n",
        "\n",
        "\n",
        "def _read_xml_file(file_name: str) -> etree._Element:\n",
        "    with open(file_name, mode='rb') as fp:\n",
        "        xml_data = fp.read()\n",
        "    return etree.fromstring(xml_data)\n",
        "\n",
        "\n",
        "def _find_first_database(root: etree._Element) -> etree._Element:\n",
        "    \"\"\"Find first database element in XML tree.\"\"\"\n",
        "    for element in root.getchildren():\n",
        "        if element.tag == 'database':\n",
        "            return element\n",
        "    raise ValueError('No database element found in XML')\n",
        "\n",
        "\n",
        "def _process_database_tables(database: etree._Element, file_name: str) -> Tuple[List[str], List[str]]:\n",
        "    \"\"\"Process all tables in database and extract texts and labels.\"\"\"\n",
        "    texts = []\n",
        "    labels = []\n",
        "\n",
        "    for table in database.getchildren():\n",
        "        if table.tag != 'table':\n",
        "            continue\n",
        "\n",
        "        text, label = _process_table_columns(table)\n",
        "        _validate_table_data(text, label, file_name)\n",
        "\n",
        "        texts.append(text)\n",
        "        labels.append(label)\n",
        "\n",
        "    return texts, labels\n",
        "\n",
        "\n",
        "def _process_table_columns(table: etree._Element) -> Tuple[Optional[str], Optional[str]]:\n",
        "    \"\"\"Extract text and label from table columns.\"\"\"\n",
        "    text = None\n",
        "    label = None\n",
        "\n",
        "    for column in table.getchildren():\n",
        "        column_name = column.get('name')\n",
        "        column_value = str(column.text).strip() if column.text else ''\n",
        "\n",
        "        if column_name == 'text':\n",
        "            text = column_value\n",
        "        elif column_name not in {'id', 'twitid', 'date'}:\n",
        "            label = _parse_label(column_value)\n",
        "            # if column_value in ['1', '0', '-1']:\n",
        "            #     label = column_value\n",
        "            # elif column_value == 'NULL':\n",
        "            #     label = '0'\n",
        "\n",
        "        if text is not None and label is not None:\n",
        "            break\n",
        "\n",
        "    return text, label\n",
        "\n",
        "\n",
        "def _parse_label(label_str: str) -> Optional[str]:\n",
        "    \"\"\"Convert numeric label to textual representation.\n",
        "       Not nessesary for tf models\"\"\"\n",
        "    if label_str == '-1':\n",
        "        return 'negative'\n",
        "    elif label_str == '1':\n",
        "        return 'positive'\n",
        "    elif label_str == '0':\n",
        "        return 'neutral'\n",
        "    return None\n",
        "\n",
        "def _validate_table_data(text: Optional[str], label: Optional[str], file_name: str) -> None:\n",
        "    \"\"\"Validate that both text and label were found.\"\"\"\n",
        "    if text is None or label is None:\n",
        "        raise ValueError(f'File `{file_name}` contains incomplete data (text or label missing)')\n",
        "\n",
        "\n",
        "texts, labels = load_sentirueval_2016('bank_train_2016.xml')"
      ],
      "metadata": {
        "id": "ZU8xdaWn28Ci"
      },
      "execution_count": null,
      "outputs": []
    },
    {
      "cell_type": "code",
      "source": [
        "from tensorflow.keras.utils import to_categorical"
      ],
      "metadata": {
        "id": "-YnA5jBMhBfM"
      },
      "execution_count": null,
      "outputs": []
    },
    {
      "cell_type": "code",
      "source": [
        "def convert_labels(labels, label_map):\n",
        "    new_labels = []\n",
        "    for label in labels:\n",
        "        new_label = label_map[label]\n",
        "        new_labels.append(new_label)\n",
        "    return new_labels\n",
        "\n",
        "label_map = {'negative': 0, 'neutral': 1, 'positive': 2}\n",
        "labels = convert_labels(labels, label_map)\n",
        "labels = to_categorical(labels, num_classes=3) # для pt не использовать"
      ],
      "metadata": {
        "id": "MoaeAhCCg8iJ"
      },
      "execution_count": null,
      "outputs": []
    },
    {
      "cell_type": "code",
      "source": [
        "from sklearn.model_selection import train_test_split\n",
        "\n",
        "t_texts, test_texts, t_labels, test_labels = train_test_split(texts, labels, test_size=0.2, stratify=labels, random_state=2025)\n",
        "train_texts, dev_texts, train_labels, dev_labels = t_texts[:5263], t_texts[5263:], t_labels[:5263], t_labels[5263:]\n",
        "\n",
        "test_samples = [(text, label) for text, label in zip(test_texts, test_labels)]\n",
        "train_samples = [(text, label) for text, label in zip(train_texts, train_labels)]\n",
        "dev_samples = [(text, label) for text, label in zip(dev_texts, dev_labels)]"
      ],
      "metadata": {
        "id": "wB9UHhhGg9c5"
      },
      "execution_count": null,
      "outputs": []
    },
    {
      "cell_type": "code",
      "source": [
        "print('Number of TRAIN texts is {0}, number of labels is {1}.'.format(len(train_texts), len(train_labels)))\n",
        "print('Number of VAL texts is {0}, number of labels is {1}.'.format(len(dev_texts), len(dev_labels)))\n",
        "print('Number of TEST texts is {0}, number of labels is {1}.'.format(len(test_texts), len(test_labels)))"
      ],
      "metadata": {
        "colab": {
          "base_uri": "https://localhost:8080/"
        },
        "id": "aUlPDil9hPj0",
        "outputId": "aac98404-a06a-4e0e-8f40-ad68af7c8f24"
      },
      "execution_count": null,
      "outputs": [
        {
          "output_type": "stream",
          "name": "stdout",
          "text": [
            "Number of TRAIN texts is 5263, number of labels is 5263.\n",
            "Number of VAL texts is 2250, number of labels is 2250.\n",
            "Number of TEST texts is 1879, number of labels is 1879.\n"
          ]
        }
      ]
    },
    {
      "cell_type": "markdown",
      "source": [
        "## Classes for tf-model"
      ],
      "metadata": {
        "id": "G9cPTsgsTwdY"
      }
    },
    {
      "cell_type": "markdown",
      "source": [
        "### Preparing model"
      ],
      "metadata": {
        "id": "pWSsbIdqhz0t"
      }
    },
    {
      "cell_type": "code",
      "execution_count": null,
      "metadata": {
        "id": "YLBEm1hTDFxT"
      },
      "outputs": [],
      "source": [
        "import torch\n",
        "import tensorflow as tf\n",
        "from transformers import BertModel, BertConfig, BertForSequenceClassification,\n",
        "                          TFBertForTokenClassification, TFBertForSequenceClassification, BertTokenizer\n",
        "import copy\n",
        "from sklearn.model_selection import train_test_split"
      ]
    },
    {
      "cell_type": "code",
      "source": [
        "def get_model(model_name):\n",
        "    if model_name == 'tf_bert_for_sequence_classification':\n",
        "        config = BertConfig.from_pretrained('DeepPavlov/rubert-base-cased', from_pt=True, num_labels=3)\n",
        "        tf_model = TFBertForSequenceClassification.from_pretrained(\n",
        "            \"DeepPavlov/rubert-base-cased\",\n",
        "            from_pt=True,\n",
        "            config=config\n",
        "        )\n",
        "        #tf_model.layers[-1].activation = tf.keras.activations.softmax\n",
        "        #tf_model.layers[-1].trainable = True\n",
        "        return tf_model"
      ],
      "metadata": {
        "id": "oqHx_A-5ogrC"
      },
      "execution_count": null,
      "outputs": []
    },
    {
      "cell_type": "code",
      "source": [
        "from google.colab import drive\n",
        "drive.mount('/content/drive/')"
      ],
      "metadata": {
        "colab": {
          "base_uri": "https://localhost:8080/"
        },
        "id": "5QqzGq61X7mF",
        "outputId": "fdb837d1-64cb-41a2-a133-dbdb10a2262d"
      },
      "execution_count": null,
      "outputs": [
        {
          "output_type": "stream",
          "name": "stdout",
          "text": [
            "Mounted at /content/drive/\n"
          ]
        }
      ]
    },
    {
      "cell_type": "code",
      "source": [
        "tf_model = get_model('tf_bert_for_sequence_classification')\n",
        "# tf_model.load_weights('/content/drive/MyDrive/weights/senti_classification_3_weights.h5')\n",
        "tf_model.load_weights('/content/RUbert_cross_domain_main_weights.h5')\n",
        "tf_model.summary()"
      ],
      "metadata": {
        "colab": {
          "base_uri": "https://localhost:8080/"
        },
        "id": "Ryq52F94MvF5",
        "outputId": "a63951bd-5ce6-4360-a580-ce33aa9fc3f8"
      },
      "execution_count": null,
      "outputs": [
        {
          "output_type": "stream",
          "name": "stderr",
          "text": [
            "Some weights of the PyTorch model were not used when initializing the TF 2.0 model TFBertForTokenClassification: ['bert.embeddings.position_ids']\n",
            "- This IS expected if you are initializing TFBertForTokenClassification from a PyTorch model trained on another task or with another architecture (e.g. initializing a TFBertForSequenceClassification model from a BertForPreTraining model).\n",
            "- This IS NOT expected if you are initializing TFBertForTokenClassification from a PyTorch model that you expect to be exactly identical (e.g. initializing a TFBertForSequenceClassification model from a BertForSequenceClassification model).\n",
            "Some weights or buffers of the TF 2.0 model TFBertForTokenClassification were not initialized from the PyTorch model and are newly initialized: ['classifier.weight', 'classifier.bias']\n",
            "You should probably TRAIN this model on a down-stream task to be able to use it for predictions and inference.\n"
          ]
        },
        {
          "output_type": "stream",
          "name": "stdout",
          "text": [
            "Model: \"tf_bert_for_token_classification\"\n",
            "_________________________________________________________________\n",
            " Layer (type)                Output Shape              Param #   \n",
            "=================================================================\n",
            " bert (TFBertMainLayer)      multiple                  177262848 \n",
            "                                                                 \n",
            " dropout_151 (Dropout)       multiple                  0         \n",
            "                                                                 \n",
            " classifier (Dense)          multiple                  2307      \n",
            "                                                                 \n",
            "=================================================================\n",
            "Total params: 177265155 (676.21 MB)\n",
            "Trainable params: 177265155 (676.21 MB)\n",
            "Non-trainable params: 0 (0.00 Byte)\n",
            "_________________________________________________________________\n"
          ]
        }
      ]
    },
    {
      "cell_type": "markdown",
      "source": [
        "Как работает `TFBertForSequenceClassification`:\n",
        "\n",
        "* На выходе BERT для классификации последовательностей обычно используется специальный токен [CLS], который агрегирует информацию обо всей последовательности.\n",
        "Вектор, соответствующий этому токену, передаётся в классификатор.\n",
        "\n",
        "* Слой `tf.keras.layers.Dense`, который добавляется поверх выходных представлений BERT. Он имеет размерность (hidden_size, num_labels) и принимает на вход вектор [CLS] (размерности hidden_size) и преобразует его в вектор размерности num_labels (в данном случае 3).\n",
        "\n",
        "* На выходе применяется функция softmax, которая преобразует логиты (сырые выходы Dense-слоя) в вероятности классов."
      ],
      "metadata": {
        "id": "vI0d9dGNRlel"
      }
    },
    {
      "cell_type": "markdown",
      "source": [
        "### evaluation full models"
      ],
      "metadata": {
        "id": "XYOMABJsNA14"
      }
    },
    {
      "cell_type": "code",
      "source": [
        "from typing import Any, Tuple, List\n",
        "import numpy as np"
      ],
      "metadata": {
        "id": "tte8iYvZJz-G"
      },
      "execution_count": null,
      "outputs": []
    },
    {
      "cell_type": "code",
      "source": [
        "class Vectorizer:\n",
        "\n",
        "    def __init__(self):\n",
        "        self._tokenizer = BertTokenizer.from_pretrained('DeepPavlov/rubert-base-cased',\n",
        "                                                        do_lower_case=False)\n",
        "        self._max_length = 128\n",
        "\n",
        "    def vectorize(self, text: str, label: Any) -> Tuple[List[str], List[int], List[int], np.ndarray]:\n",
        "        try:\n",
        "            tokenized_text, input_masks = self._tokenize(text)\n",
        "        except:\n",
        "            tokenized_text, input_masks = [], []\n",
        "\n",
        "        input_ids = self._tokenizer.convert_tokens_to_ids(tokenized_text)\n",
        "\n",
        "        if isinstance(label, np.ndarray):\n",
        "          tag = label\n",
        "        else:\n",
        "          print('Here is the error!')\n",
        "\n",
        "        input_ids = self._pad(input_ids)\n",
        "        input_masks = self._pad(input_masks)\n",
        "\n",
        "        return tokenized_text, input_ids, input_masks, tag\n",
        "\n",
        "    def _pad(self, input: List[Any]) -> List[Any]:\n",
        "        if len(input) >= self._max_length:\n",
        "            return input[:self._max_length]\n",
        "        while len(input) < self._max_length:\n",
        "            input.append(0)\n",
        "        return input\n",
        "\n",
        "    def _tokenize(self, text: str) -> Tuple[List[str], List[int]]:\n",
        "        tokenized_text = self._tokenizer.tokenize(text)\n",
        "\n",
        "        inputs = self._tokenizer.encode_plus(\n",
        "            tokenized_text,\n",
        "            is_pretokenized=True,\n",
        "            return_attention_mask=True,\n",
        "            max_length=self._max_length,\n",
        "            truncation=True\n",
        "        )\n",
        "\n",
        "        return tokenized_text, inputs['attention_mask']"
      ],
      "metadata": {
        "id": "SnAW1sdvJwvV"
      },
      "execution_count": null,
      "outputs": []
    },
    {
      "cell_type": "code",
      "source": [
        "vectorizer = Vectorizer()"
      ],
      "metadata": {
        "colab": {
          "base_uri": "https://localhost:8080/",
          "height": 113,
          "referenced_widgets": [
            "f32f2867ec0d4b90a7f6d61ed22a6df8",
            "8eaecaacfffd43e0b71a1d5a351535d0",
            "efa0c7b782e247e9b7b05be17f860b39",
            "047655c661d9499facc4f26cd5260acb",
            "2a163011428647ea87aface28e13c5a7",
            "d33195a1c4c64f1caab6065674698e63",
            "ea9b996a15f24cdea8238a569002c6af",
            "6847f9f1362d4b2b88f2857155539c93",
            "0442a78ae49a498eb7ac1c7e57805f16",
            "8fff745639d24cf5a354373bb7e1ffbf",
            "34a5478ad9bc45c1b4651f80ae159313",
            "d2440db453b74b2b86035ebb60d3cef5",
            "fd050e244ad647a5bebbd05d81390987",
            "6de9ed3029044e09a6a8946dc0597b39",
            "8b4e78a24f6b47d88b4680331cde0cbb",
            "dc160cdc233f4eac94239bffe7550015",
            "6b9b59f55ecc47ac980ffd6c1532e38f",
            "50998b2c46414c2f93b5e565418ab3b0",
            "c0fc5777459e4dc685c9f1eaa8370b40",
            "d3a5b64fc9c2442d976bd8d06e42da26",
            "421e7d159e3844be979eba8c214ec546",
            "a2552e507b934e8fb8c7ca44d83cd2d8",
            "055a404ae04b487ea5966dd990871e1c",
            "a60dec2363d2469dac6f41b228ed7cb4",
            "236723cae6914745a41d1f9ae308cdb1",
            "8f02b3732fd94b32bec587a6e338fcf1",
            "b212fd2321854f4fb2d9533ba5dcf5dd",
            "dc36f2dd7e314622a9b69ba99ff7923a",
            "7b3106a375f747e49c0be77f340d56d5",
            "dd05a86ae9224aa9a28a9e576d040d11",
            "b784f7a454df498c835c1c8503af0c21",
            "feb5abad628b4db6a5baa6fa44f22210",
            "d2338a68775540219ef7826eb9e12d66"
          ]
        },
        "id": "18KNk8Zo5VRo",
        "outputId": "078b938a-b350-40d1-af10-4aeac9cff371"
      },
      "execution_count": null,
      "outputs": [
        {
          "output_type": "display_data",
          "data": {
            "text/plain": [
              "tokenizer_config.json:   0%|          | 0.00/24.0 [00:00<?, ?B/s]"
            ],
            "application/vnd.jupyter.widget-view+json": {
              "version_major": 2,
              "version_minor": 0,
              "model_id": "f32f2867ec0d4b90a7f6d61ed22a6df8"
            }
          },
          "metadata": {}
        },
        {
          "output_type": "display_data",
          "data": {
            "text/plain": [
              "vocab.txt:   0%|          | 0.00/1.65M [00:00<?, ?B/s]"
            ],
            "application/vnd.jupyter.widget-view+json": {
              "version_major": 2,
              "version_minor": 0,
              "model_id": "d2440db453b74b2b86035ebb60d3cef5"
            }
          },
          "metadata": {}
        },
        {
          "output_type": "display_data",
          "data": {
            "text/plain": [
              "special_tokens_map.json:   0%|          | 0.00/112 [00:00<?, ?B/s]"
            ],
            "application/vnd.jupyter.widget-view+json": {
              "version_major": 2,
              "version_minor": 0,
              "model_id": "055a404ae04b487ea5966dd990871e1c"
            }
          },
          "metadata": {}
        }
      ]
    },
    {
      "cell_type": "code",
      "source": [
        "from sklearn.metrics import classification_report\n",
        "import numpy as np\n",
        "\n",
        "class Evaluator_tf:\n",
        "\n",
        "    def __init__(self, model):\n",
        "        self._vectorizer = Vectorizer()\n",
        "        self._model = model\n",
        "        self._model.training = False\n",
        "        self._batch_size = 12\n",
        "\n",
        "    def _predict(self, texts):\n",
        "        all_labels = []\n",
        "\n",
        "        for i in range(0, len(texts), self._batch_size):\n",
        "            batch_texts = texts[i:i + self._batch_size]\n",
        "\n",
        "            X_ids = []\n",
        "            X_masks = []\n",
        "            for text in batch_texts:\n",
        "                _, input_ids, input_masks, _ = self._vectorizer.vectorize(text, np.zeros([1, 3]))\n",
        "                X_ids.append(np.array(input_ids))\n",
        "                X_masks.append(np.array(input_masks))\n",
        "\n",
        "            input = [np.asarray(X_ids, dtype='int32'), np.asarray(X_masks, dtype='int32')]\n",
        "            # print(\"Tensorflow inpyt:\", input)\n",
        "            preds = self._model(input)[0]\n",
        "            # print(\"Tensorflow output:\", self._model(input))\n",
        "            max_index = np.argmax(preds, axis=1)\n",
        "            label_one_hot = np.eye(3)[max_index]\n",
        "            all_labels.extend(label_one_hot)\n",
        "\n",
        "        return np.array(all_labels)\n",
        "\n",
        "    def eval(self, test_texts, test_labels):\n",
        "        all_y_true = test_labels\n",
        "        all_y_pred = self._predict(test_texts)\n",
        "\n",
        "        report = classification_report(all_y_true, all_y_pred, target_names=['negative', 'neutral', 'positive'])\n",
        "        return report"
      ],
      "metadata": {
        "id": "IyxBAXIDTEDa"
      },
      "execution_count": null,
      "outputs": []
    },
    {
      "cell_type": "code",
      "source": [
        "evaluator = Evaluator_tf(tf_model)\n",
        "print(evaluator.eval(test_texts, test_labels))"
      ],
      "metadata": {
        "colab": {
          "base_uri": "https://localhost:8080/"
        },
        "id": "0djrxwv6XkSQ",
        "outputId": "83234154-b673-45d9-a4c0-f324d50b833c"
      },
      "execution_count": null,
      "outputs": [
        {
          "output_type": "stream",
          "name": "stdout",
          "text": [
            "              precision    recall  f1-score   support\n",
            "\n",
            "    negative       0.81      0.89      0.85       344\n",
            "     neutral       0.96      0.91      0.93      1395\n",
            "    positive       0.58      0.74      0.65       140\n",
            "\n",
            "   micro avg       0.89      0.89      0.89      1879\n",
            "   macro avg       0.78      0.85      0.81      1879\n",
            "weighted avg       0.90      0.89      0.90      1879\n",
            " samples avg       0.89      0.89      0.89      1879\n",
            "\n"
          ]
        }
      ]
    },
    {
      "cell_type": "markdown",
      "source": [
        "### get model structure"
      ],
      "metadata": {
        "id": "xa13XbHV5rft"
      }
    },
    {
      "cell_type": "code",
      "source": [
        "# Отображалка имен и размерностей весов на слоях\n",
        "\n",
        "def print_layer_info(layer):\n",
        "    print(f\"Layer: {layer.name} ({layer.__class__.__name__})\")\n",
        "\n",
        "    if hasattr(layer, 'weights') and layer.weights:\n",
        "        for i, weight in enumerate(layer.weights):\n",
        "            print(f\"  Weight {i}: {weight.name}, Shape: {weight.shape}\")\n",
        "\n",
        "model = pretrained_model\n",
        "for layer in model.layers:\n",
        "    print_layer_info(layer)"
      ],
      "metadata": {
        "id": "LJ4ZuE8cPsvx",
        "colab": {
          "base_uri": "https://localhost:8080/"
        },
        "outputId": "abcedb24-c606-404d-c3a2-520ae4c15896"
      },
      "execution_count": null,
      "outputs": [
        {
          "output_type": "stream",
          "name": "stdout",
          "text": [
            "Layer: bert (TFBertMainLayer)\n",
            "  Weight 0: tf_bert_for_sequence_classification/bert/embeddings/word_embeddings/weight:0, Shape: (119547, 768)\n",
            "  Weight 1: tf_bert_for_sequence_classification/bert/embeddings/token_type_embeddings/embeddings:0, Shape: (2, 768)\n",
            "  Weight 2: tf_bert_for_sequence_classification/bert/embeddings/position_embeddings/embeddings:0, Shape: (512, 768)\n",
            "  Weight 3: tf_bert_for_sequence_classification/bert/embeddings/LayerNorm/gamma:0, Shape: (768,)\n",
            "  Weight 4: tf_bert_for_sequence_classification/bert/embeddings/LayerNorm/beta:0, Shape: (768,)\n",
            "  Weight 5: tf_bert_for_sequence_classification/bert/encoder/layer_._0/attention/self/query/kernel:0, Shape: (768, 768)\n",
            "  Weight 6: tf_bert_for_sequence_classification/bert/encoder/layer_._0/attention/self/query/bias:0, Shape: (768,)\n",
            "  Weight 7: tf_bert_for_sequence_classification/bert/encoder/layer_._0/attention/self/key/kernel:0, Shape: (768, 768)\n",
            "  Weight 8: tf_bert_for_sequence_classification/bert/encoder/layer_._0/attention/self/key/bias:0, Shape: (768,)\n",
            "  Weight 9: tf_bert_for_sequence_classification/bert/encoder/layer_._0/attention/self/value/kernel:0, Shape: (768, 768)\n",
            "  Weight 10: tf_bert_for_sequence_classification/bert/encoder/layer_._0/attention/self/value/bias:0, Shape: (768,)\n",
            "  Weight 11: tf_bert_for_sequence_classification/bert/encoder/layer_._0/attention/output/dense/kernel:0, Shape: (768, 768)\n",
            "  Weight 12: tf_bert_for_sequence_classification/bert/encoder/layer_._0/attention/output/dense/bias:0, Shape: (768,)\n",
            "  Weight 13: tf_bert_for_sequence_classification/bert/encoder/layer_._0/attention/output/LayerNorm/gamma:0, Shape: (768,)\n",
            "  Weight 14: tf_bert_for_sequence_classification/bert/encoder/layer_._0/attention/output/LayerNorm/beta:0, Shape: (768,)\n",
            "  Weight 15: tf_bert_for_sequence_classification/bert/encoder/layer_._0/intermediate/dense/kernel:0, Shape: (768, 3072)\n",
            "  Weight 16: tf_bert_for_sequence_classification/bert/encoder/layer_._0/intermediate/dense/bias:0, Shape: (3072,)\n",
            "  Weight 17: tf_bert_for_sequence_classification/bert/encoder/layer_._0/output/dense/kernel:0, Shape: (3072, 768)\n",
            "  Weight 18: tf_bert_for_sequence_classification/bert/encoder/layer_._0/output/dense/bias:0, Shape: (768,)\n",
            "  Weight 19: tf_bert_for_sequence_classification/bert/encoder/layer_._0/output/LayerNorm/gamma:0, Shape: (768,)\n",
            "  Weight 20: tf_bert_for_sequence_classification/bert/encoder/layer_._0/output/LayerNorm/beta:0, Shape: (768,)\n",
            "  Weight 21: tf_bert_for_sequence_classification/bert/encoder/layer_._1/attention/self/query/kernel:0, Shape: (768, 768)\n",
            "  Weight 22: tf_bert_for_sequence_classification/bert/encoder/layer_._1/attention/self/query/bias:0, Shape: (768,)\n",
            "  Weight 23: tf_bert_for_sequence_classification/bert/encoder/layer_._1/attention/self/key/kernel:0, Shape: (768, 768)\n",
            "  Weight 24: tf_bert_for_sequence_classification/bert/encoder/layer_._1/attention/self/key/bias:0, Shape: (768,)\n",
            "  Weight 25: tf_bert_for_sequence_classification/bert/encoder/layer_._1/attention/self/value/kernel:0, Shape: (768, 768)\n",
            "  Weight 26: tf_bert_for_sequence_classification/bert/encoder/layer_._1/attention/self/value/bias:0, Shape: (768,)\n",
            "  Weight 27: tf_bert_for_sequence_classification/bert/encoder/layer_._1/attention/output/dense/kernel:0, Shape: (768, 768)\n",
            "  Weight 28: tf_bert_for_sequence_classification/bert/encoder/layer_._1/attention/output/dense/bias:0, Shape: (768,)\n",
            "  Weight 29: tf_bert_for_sequence_classification/bert/encoder/layer_._1/attention/output/LayerNorm/gamma:0, Shape: (768,)\n",
            "  Weight 30: tf_bert_for_sequence_classification/bert/encoder/layer_._1/attention/output/LayerNorm/beta:0, Shape: (768,)\n",
            "  Weight 31: tf_bert_for_sequence_classification/bert/encoder/layer_._1/intermediate/dense/kernel:0, Shape: (768, 3072)\n",
            "  Weight 32: tf_bert_for_sequence_classification/bert/encoder/layer_._1/intermediate/dense/bias:0, Shape: (3072,)\n",
            "  Weight 33: tf_bert_for_sequence_classification/bert/encoder/layer_._1/output/dense/kernel:0, Shape: (3072, 768)\n",
            "  Weight 34: tf_bert_for_sequence_classification/bert/encoder/layer_._1/output/dense/bias:0, Shape: (768,)\n",
            "  Weight 35: tf_bert_for_sequence_classification/bert/encoder/layer_._1/output/LayerNorm/gamma:0, Shape: (768,)\n",
            "  Weight 36: tf_bert_for_sequence_classification/bert/encoder/layer_._1/output/LayerNorm/beta:0, Shape: (768,)\n",
            "  Weight 37: tf_bert_for_sequence_classification/bert/encoder/layer_._2/attention/self/query/kernel:0, Shape: (768, 768)\n",
            "  Weight 38: tf_bert_for_sequence_classification/bert/encoder/layer_._2/attention/self/query/bias:0, Shape: (768,)\n",
            "  Weight 39: tf_bert_for_sequence_classification/bert/encoder/layer_._2/attention/self/key/kernel:0, Shape: (768, 768)\n",
            "  Weight 40: tf_bert_for_sequence_classification/bert/encoder/layer_._2/attention/self/key/bias:0, Shape: (768,)\n",
            "  Weight 41: tf_bert_for_sequence_classification/bert/encoder/layer_._2/attention/self/value/kernel:0, Shape: (768, 768)\n",
            "  Weight 42: tf_bert_for_sequence_classification/bert/encoder/layer_._2/attention/self/value/bias:0, Shape: (768,)\n",
            "  Weight 43: tf_bert_for_sequence_classification/bert/encoder/layer_._2/attention/output/dense/kernel:0, Shape: (768, 768)\n",
            "  Weight 44: tf_bert_for_sequence_classification/bert/encoder/layer_._2/attention/output/dense/bias:0, Shape: (768,)\n",
            "  Weight 45: tf_bert_for_sequence_classification/bert/encoder/layer_._2/attention/output/LayerNorm/gamma:0, Shape: (768,)\n",
            "  Weight 46: tf_bert_for_sequence_classification/bert/encoder/layer_._2/attention/output/LayerNorm/beta:0, Shape: (768,)\n",
            "  Weight 47: tf_bert_for_sequence_classification/bert/encoder/layer_._2/intermediate/dense/kernel:0, Shape: (768, 3072)\n",
            "  Weight 48: tf_bert_for_sequence_classification/bert/encoder/layer_._2/intermediate/dense/bias:0, Shape: (3072,)\n",
            "  Weight 49: tf_bert_for_sequence_classification/bert/encoder/layer_._2/output/dense/kernel:0, Shape: (3072, 768)\n",
            "  Weight 50: tf_bert_for_sequence_classification/bert/encoder/layer_._2/output/dense/bias:0, Shape: (768,)\n",
            "  Weight 51: tf_bert_for_sequence_classification/bert/encoder/layer_._2/output/LayerNorm/gamma:0, Shape: (768,)\n",
            "  Weight 52: tf_bert_for_sequence_classification/bert/encoder/layer_._2/output/LayerNorm/beta:0, Shape: (768,)\n",
            "  Weight 53: tf_bert_for_sequence_classification/bert/encoder/layer_._3/attention/self/query/kernel:0, Shape: (768, 768)\n",
            "  Weight 54: tf_bert_for_sequence_classification/bert/encoder/layer_._3/attention/self/query/bias:0, Shape: (768,)\n",
            "  Weight 55: tf_bert_for_sequence_classification/bert/encoder/layer_._3/attention/self/key/kernel:0, Shape: (768, 768)\n",
            "  Weight 56: tf_bert_for_sequence_classification/bert/encoder/layer_._3/attention/self/key/bias:0, Shape: (768,)\n",
            "  Weight 57: tf_bert_for_sequence_classification/bert/encoder/layer_._3/attention/self/value/kernel:0, Shape: (768, 768)\n",
            "  Weight 58: tf_bert_for_sequence_classification/bert/encoder/layer_._3/attention/self/value/bias:0, Shape: (768,)\n",
            "  Weight 59: tf_bert_for_sequence_classification/bert/encoder/layer_._3/attention/output/dense/kernel:0, Shape: (768, 768)\n",
            "  Weight 60: tf_bert_for_sequence_classification/bert/encoder/layer_._3/attention/output/dense/bias:0, Shape: (768,)\n",
            "  Weight 61: tf_bert_for_sequence_classification/bert/encoder/layer_._3/attention/output/LayerNorm/gamma:0, Shape: (768,)\n",
            "  Weight 62: tf_bert_for_sequence_classification/bert/encoder/layer_._3/attention/output/LayerNorm/beta:0, Shape: (768,)\n",
            "  Weight 63: tf_bert_for_sequence_classification/bert/encoder/layer_._3/intermediate/dense/kernel:0, Shape: (768, 3072)\n",
            "  Weight 64: tf_bert_for_sequence_classification/bert/encoder/layer_._3/intermediate/dense/bias:0, Shape: (3072,)\n",
            "  Weight 65: tf_bert_for_sequence_classification/bert/encoder/layer_._3/output/dense/kernel:0, Shape: (3072, 768)\n",
            "  Weight 66: tf_bert_for_sequence_classification/bert/encoder/layer_._3/output/dense/bias:0, Shape: (768,)\n",
            "  Weight 67: tf_bert_for_sequence_classification/bert/encoder/layer_._3/output/LayerNorm/gamma:0, Shape: (768,)\n",
            "  Weight 68: tf_bert_for_sequence_classification/bert/encoder/layer_._3/output/LayerNorm/beta:0, Shape: (768,)\n",
            "  Weight 69: tf_bert_for_sequence_classification/bert/encoder/layer_._4/attention/self/query/kernel:0, Shape: (768, 768)\n",
            "  Weight 70: tf_bert_for_sequence_classification/bert/encoder/layer_._4/attention/self/query/bias:0, Shape: (768,)\n",
            "  Weight 71: tf_bert_for_sequence_classification/bert/encoder/layer_._4/attention/self/key/kernel:0, Shape: (768, 768)\n",
            "  Weight 72: tf_bert_for_sequence_classification/bert/encoder/layer_._4/attention/self/key/bias:0, Shape: (768,)\n",
            "  Weight 73: tf_bert_for_sequence_classification/bert/encoder/layer_._4/attention/self/value/kernel:0, Shape: (768, 768)\n",
            "  Weight 74: tf_bert_for_sequence_classification/bert/encoder/layer_._4/attention/self/value/bias:0, Shape: (768,)\n",
            "  Weight 75: tf_bert_for_sequence_classification/bert/encoder/layer_._4/attention/output/dense/kernel:0, Shape: (768, 768)\n",
            "  Weight 76: tf_bert_for_sequence_classification/bert/encoder/layer_._4/attention/output/dense/bias:0, Shape: (768,)\n",
            "  Weight 77: tf_bert_for_sequence_classification/bert/encoder/layer_._4/attention/output/LayerNorm/gamma:0, Shape: (768,)\n",
            "  Weight 78: tf_bert_for_sequence_classification/bert/encoder/layer_._4/attention/output/LayerNorm/beta:0, Shape: (768,)\n",
            "  Weight 79: tf_bert_for_sequence_classification/bert/encoder/layer_._4/intermediate/dense/kernel:0, Shape: (768, 3072)\n",
            "  Weight 80: tf_bert_for_sequence_classification/bert/encoder/layer_._4/intermediate/dense/bias:0, Shape: (3072,)\n",
            "  Weight 81: tf_bert_for_sequence_classification/bert/encoder/layer_._4/output/dense/kernel:0, Shape: (3072, 768)\n",
            "  Weight 82: tf_bert_for_sequence_classification/bert/encoder/layer_._4/output/dense/bias:0, Shape: (768,)\n",
            "  Weight 83: tf_bert_for_sequence_classification/bert/encoder/layer_._4/output/LayerNorm/gamma:0, Shape: (768,)\n",
            "  Weight 84: tf_bert_for_sequence_classification/bert/encoder/layer_._4/output/LayerNorm/beta:0, Shape: (768,)\n",
            "  Weight 85: tf_bert_for_sequence_classification/bert/encoder/layer_._5/attention/self/query/kernel:0, Shape: (768, 768)\n",
            "  Weight 86: tf_bert_for_sequence_classification/bert/encoder/layer_._5/attention/self/query/bias:0, Shape: (768,)\n",
            "  Weight 87: tf_bert_for_sequence_classification/bert/encoder/layer_._5/attention/self/key/kernel:0, Shape: (768, 768)\n",
            "  Weight 88: tf_bert_for_sequence_classification/bert/encoder/layer_._5/attention/self/key/bias:0, Shape: (768,)\n",
            "  Weight 89: tf_bert_for_sequence_classification/bert/encoder/layer_._5/attention/self/value/kernel:0, Shape: (768, 768)\n",
            "  Weight 90: tf_bert_for_sequence_classification/bert/encoder/layer_._5/attention/self/value/bias:0, Shape: (768,)\n",
            "  Weight 91: tf_bert_for_sequence_classification/bert/encoder/layer_._5/attention/output/dense/kernel:0, Shape: (768, 768)\n",
            "  Weight 92: tf_bert_for_sequence_classification/bert/encoder/layer_._5/attention/output/dense/bias:0, Shape: (768,)\n",
            "  Weight 93: tf_bert_for_sequence_classification/bert/encoder/layer_._5/attention/output/LayerNorm/gamma:0, Shape: (768,)\n",
            "  Weight 94: tf_bert_for_sequence_classification/bert/encoder/layer_._5/attention/output/LayerNorm/beta:0, Shape: (768,)\n",
            "  Weight 95: tf_bert_for_sequence_classification/bert/encoder/layer_._5/intermediate/dense/kernel:0, Shape: (768, 3072)\n",
            "  Weight 96: tf_bert_for_sequence_classification/bert/encoder/layer_._5/intermediate/dense/bias:0, Shape: (3072,)\n",
            "  Weight 97: tf_bert_for_sequence_classification/bert/encoder/layer_._5/output/dense/kernel:0, Shape: (3072, 768)\n",
            "  Weight 98: tf_bert_for_sequence_classification/bert/encoder/layer_._5/output/dense/bias:0, Shape: (768,)\n",
            "  Weight 99: tf_bert_for_sequence_classification/bert/encoder/layer_._5/output/LayerNorm/gamma:0, Shape: (768,)\n",
            "  Weight 100: tf_bert_for_sequence_classification/bert/encoder/layer_._5/output/LayerNorm/beta:0, Shape: (768,)\n",
            "  Weight 101: tf_bert_for_sequence_classification/bert/encoder/layer_._6/attention/self/query/kernel:0, Shape: (768, 768)\n",
            "  Weight 102: tf_bert_for_sequence_classification/bert/encoder/layer_._6/attention/self/query/bias:0, Shape: (768,)\n",
            "  Weight 103: tf_bert_for_sequence_classification/bert/encoder/layer_._6/attention/self/key/kernel:0, Shape: (768, 768)\n",
            "  Weight 104: tf_bert_for_sequence_classification/bert/encoder/layer_._6/attention/self/key/bias:0, Shape: (768,)\n",
            "  Weight 105: tf_bert_for_sequence_classification/bert/encoder/layer_._6/attention/self/value/kernel:0, Shape: (768, 768)\n",
            "  Weight 106: tf_bert_for_sequence_classification/bert/encoder/layer_._6/attention/self/value/bias:0, Shape: (768,)\n",
            "  Weight 107: tf_bert_for_sequence_classification/bert/encoder/layer_._6/attention/output/dense/kernel:0, Shape: (768, 768)\n",
            "  Weight 108: tf_bert_for_sequence_classification/bert/encoder/layer_._6/attention/output/dense/bias:0, Shape: (768,)\n",
            "  Weight 109: tf_bert_for_sequence_classification/bert/encoder/layer_._6/attention/output/LayerNorm/gamma:0, Shape: (768,)\n",
            "  Weight 110: tf_bert_for_sequence_classification/bert/encoder/layer_._6/attention/output/LayerNorm/beta:0, Shape: (768,)\n",
            "  Weight 111: tf_bert_for_sequence_classification/bert/encoder/layer_._6/intermediate/dense/kernel:0, Shape: (768, 3072)\n",
            "  Weight 112: tf_bert_for_sequence_classification/bert/encoder/layer_._6/intermediate/dense/bias:0, Shape: (3072,)\n",
            "  Weight 113: tf_bert_for_sequence_classification/bert/encoder/layer_._6/output/dense/kernel:0, Shape: (3072, 768)\n",
            "  Weight 114: tf_bert_for_sequence_classification/bert/encoder/layer_._6/output/dense/bias:0, Shape: (768,)\n",
            "  Weight 115: tf_bert_for_sequence_classification/bert/encoder/layer_._6/output/LayerNorm/gamma:0, Shape: (768,)\n",
            "  Weight 116: tf_bert_for_sequence_classification/bert/encoder/layer_._6/output/LayerNorm/beta:0, Shape: (768,)\n",
            "  Weight 117: tf_bert_for_sequence_classification/bert/encoder/layer_._7/attention/self/query/kernel:0, Shape: (768, 768)\n",
            "  Weight 118: tf_bert_for_sequence_classification/bert/encoder/layer_._7/attention/self/query/bias:0, Shape: (768,)\n",
            "  Weight 119: tf_bert_for_sequence_classification/bert/encoder/layer_._7/attention/self/key/kernel:0, Shape: (768, 768)\n",
            "  Weight 120: tf_bert_for_sequence_classification/bert/encoder/layer_._7/attention/self/key/bias:0, Shape: (768,)\n",
            "  Weight 121: tf_bert_for_sequence_classification/bert/encoder/layer_._7/attention/self/value/kernel:0, Shape: (768, 768)\n",
            "  Weight 122: tf_bert_for_sequence_classification/bert/encoder/layer_._7/attention/self/value/bias:0, Shape: (768,)\n",
            "  Weight 123: tf_bert_for_sequence_classification/bert/encoder/layer_._7/attention/output/dense/kernel:0, Shape: (768, 768)\n",
            "  Weight 124: tf_bert_for_sequence_classification/bert/encoder/layer_._7/attention/output/dense/bias:0, Shape: (768,)\n",
            "  Weight 125: tf_bert_for_sequence_classification/bert/encoder/layer_._7/attention/output/LayerNorm/gamma:0, Shape: (768,)\n",
            "  Weight 126: tf_bert_for_sequence_classification/bert/encoder/layer_._7/attention/output/LayerNorm/beta:0, Shape: (768,)\n",
            "  Weight 127: tf_bert_for_sequence_classification/bert/encoder/layer_._7/intermediate/dense/kernel:0, Shape: (768, 3072)\n",
            "  Weight 128: tf_bert_for_sequence_classification/bert/encoder/layer_._7/intermediate/dense/bias:0, Shape: (3072,)\n",
            "  Weight 129: tf_bert_for_sequence_classification/bert/encoder/layer_._7/output/dense/kernel:0, Shape: (3072, 768)\n",
            "  Weight 130: tf_bert_for_sequence_classification/bert/encoder/layer_._7/output/dense/bias:0, Shape: (768,)\n",
            "  Weight 131: tf_bert_for_sequence_classification/bert/encoder/layer_._7/output/LayerNorm/gamma:0, Shape: (768,)\n",
            "  Weight 132: tf_bert_for_sequence_classification/bert/encoder/layer_._7/output/LayerNorm/beta:0, Shape: (768,)\n",
            "  Weight 133: tf_bert_for_sequence_classification/bert/encoder/layer_._8/attention/self/query/kernel:0, Shape: (768, 768)\n",
            "  Weight 134: tf_bert_for_sequence_classification/bert/encoder/layer_._8/attention/self/query/bias:0, Shape: (768,)\n",
            "  Weight 135: tf_bert_for_sequence_classification/bert/encoder/layer_._8/attention/self/key/kernel:0, Shape: (768, 768)\n",
            "  Weight 136: tf_bert_for_sequence_classification/bert/encoder/layer_._8/attention/self/key/bias:0, Shape: (768,)\n",
            "  Weight 137: tf_bert_for_sequence_classification/bert/encoder/layer_._8/attention/self/value/kernel:0, Shape: (768, 768)\n",
            "  Weight 138: tf_bert_for_sequence_classification/bert/encoder/layer_._8/attention/self/value/bias:0, Shape: (768,)\n",
            "  Weight 139: tf_bert_for_sequence_classification/bert/encoder/layer_._8/attention/output/dense/kernel:0, Shape: (768, 768)\n",
            "  Weight 140: tf_bert_for_sequence_classification/bert/encoder/layer_._8/attention/output/dense/bias:0, Shape: (768,)\n",
            "  Weight 141: tf_bert_for_sequence_classification/bert/encoder/layer_._8/attention/output/LayerNorm/gamma:0, Shape: (768,)\n",
            "  Weight 142: tf_bert_for_sequence_classification/bert/encoder/layer_._8/attention/output/LayerNorm/beta:0, Shape: (768,)\n",
            "  Weight 143: tf_bert_for_sequence_classification/bert/encoder/layer_._8/intermediate/dense/kernel:0, Shape: (768, 3072)\n",
            "  Weight 144: tf_bert_for_sequence_classification/bert/encoder/layer_._8/intermediate/dense/bias:0, Shape: (3072,)\n",
            "  Weight 145: tf_bert_for_sequence_classification/bert/encoder/layer_._8/output/dense/kernel:0, Shape: (3072, 768)\n",
            "  Weight 146: tf_bert_for_sequence_classification/bert/encoder/layer_._8/output/dense/bias:0, Shape: (768,)\n",
            "  Weight 147: tf_bert_for_sequence_classification/bert/encoder/layer_._8/output/LayerNorm/gamma:0, Shape: (768,)\n",
            "  Weight 148: tf_bert_for_sequence_classification/bert/encoder/layer_._8/output/LayerNorm/beta:0, Shape: (768,)\n",
            "  Weight 149: tf_bert_for_sequence_classification/bert/encoder/layer_._9/attention/self/query/kernel:0, Shape: (768, 768)\n",
            "  Weight 150: tf_bert_for_sequence_classification/bert/encoder/layer_._9/attention/self/query/bias:0, Shape: (768,)\n",
            "  Weight 151: tf_bert_for_sequence_classification/bert/encoder/layer_._9/attention/self/key/kernel:0, Shape: (768, 768)\n",
            "  Weight 152: tf_bert_for_sequence_classification/bert/encoder/layer_._9/attention/self/key/bias:0, Shape: (768,)\n",
            "  Weight 153: tf_bert_for_sequence_classification/bert/encoder/layer_._9/attention/self/value/kernel:0, Shape: (768, 768)\n",
            "  Weight 154: tf_bert_for_sequence_classification/bert/encoder/layer_._9/attention/self/value/bias:0, Shape: (768,)\n",
            "  Weight 155: tf_bert_for_sequence_classification/bert/encoder/layer_._9/attention/output/dense/kernel:0, Shape: (768, 768)\n",
            "  Weight 156: tf_bert_for_sequence_classification/bert/encoder/layer_._9/attention/output/dense/bias:0, Shape: (768,)\n",
            "  Weight 157: tf_bert_for_sequence_classification/bert/encoder/layer_._9/attention/output/LayerNorm/gamma:0, Shape: (768,)\n",
            "  Weight 158: tf_bert_for_sequence_classification/bert/encoder/layer_._9/attention/output/LayerNorm/beta:0, Shape: (768,)\n",
            "  Weight 159: tf_bert_for_sequence_classification/bert/encoder/layer_._9/intermediate/dense/kernel:0, Shape: (768, 3072)\n",
            "  Weight 160: tf_bert_for_sequence_classification/bert/encoder/layer_._9/intermediate/dense/bias:0, Shape: (3072,)\n",
            "  Weight 161: tf_bert_for_sequence_classification/bert/encoder/layer_._9/output/dense/kernel:0, Shape: (3072, 768)\n",
            "  Weight 162: tf_bert_for_sequence_classification/bert/encoder/layer_._9/output/dense/bias:0, Shape: (768,)\n",
            "  Weight 163: tf_bert_for_sequence_classification/bert/encoder/layer_._9/output/LayerNorm/gamma:0, Shape: (768,)\n",
            "  Weight 164: tf_bert_for_sequence_classification/bert/encoder/layer_._9/output/LayerNorm/beta:0, Shape: (768,)\n",
            "  Weight 165: tf_bert_for_sequence_classification/bert/encoder/layer_._10/attention/self/query/kernel:0, Shape: (768, 768)\n",
            "  Weight 166: tf_bert_for_sequence_classification/bert/encoder/layer_._10/attention/self/query/bias:0, Shape: (768,)\n",
            "  Weight 167: tf_bert_for_sequence_classification/bert/encoder/layer_._10/attention/self/key/kernel:0, Shape: (768, 768)\n",
            "  Weight 168: tf_bert_for_sequence_classification/bert/encoder/layer_._10/attention/self/key/bias:0, Shape: (768,)\n",
            "  Weight 169: tf_bert_for_sequence_classification/bert/encoder/layer_._10/attention/self/value/kernel:0, Shape: (768, 768)\n",
            "  Weight 170: tf_bert_for_sequence_classification/bert/encoder/layer_._10/attention/self/value/bias:0, Shape: (768,)\n",
            "  Weight 171: tf_bert_for_sequence_classification/bert/encoder/layer_._10/attention/output/dense/kernel:0, Shape: (768, 768)\n",
            "  Weight 172: tf_bert_for_sequence_classification/bert/encoder/layer_._10/attention/output/dense/bias:0, Shape: (768,)\n",
            "  Weight 173: tf_bert_for_sequence_classification/bert/encoder/layer_._10/attention/output/LayerNorm/gamma:0, Shape: (768,)\n",
            "  Weight 174: tf_bert_for_sequence_classification/bert/encoder/layer_._10/attention/output/LayerNorm/beta:0, Shape: (768,)\n",
            "  Weight 175: tf_bert_for_sequence_classification/bert/encoder/layer_._10/intermediate/dense/kernel:0, Shape: (768, 3072)\n",
            "  Weight 176: tf_bert_for_sequence_classification/bert/encoder/layer_._10/intermediate/dense/bias:0, Shape: (3072,)\n",
            "  Weight 177: tf_bert_for_sequence_classification/bert/encoder/layer_._10/output/dense/kernel:0, Shape: (3072, 768)\n",
            "  Weight 178: tf_bert_for_sequence_classification/bert/encoder/layer_._10/output/dense/bias:0, Shape: (768,)\n",
            "  Weight 179: tf_bert_for_sequence_classification/bert/encoder/layer_._10/output/LayerNorm/gamma:0, Shape: (768,)\n",
            "  Weight 180: tf_bert_for_sequence_classification/bert/encoder/layer_._10/output/LayerNorm/beta:0, Shape: (768,)\n",
            "  Weight 181: tf_bert_for_sequence_classification/bert/encoder/layer_._11/attention/self/query/kernel:0, Shape: (768, 768)\n",
            "  Weight 182: tf_bert_for_sequence_classification/bert/encoder/layer_._11/attention/self/query/bias:0, Shape: (768,)\n",
            "  Weight 183: tf_bert_for_sequence_classification/bert/encoder/layer_._11/attention/self/key/kernel:0, Shape: (768, 768)\n",
            "  Weight 184: tf_bert_for_sequence_classification/bert/encoder/layer_._11/attention/self/key/bias:0, Shape: (768,)\n",
            "  Weight 185: tf_bert_for_sequence_classification/bert/encoder/layer_._11/attention/self/value/kernel:0, Shape: (768, 768)\n",
            "  Weight 186: tf_bert_for_sequence_classification/bert/encoder/layer_._11/attention/self/value/bias:0, Shape: (768,)\n",
            "  Weight 187: tf_bert_for_sequence_classification/bert/encoder/layer_._11/attention/output/dense/kernel:0, Shape: (768, 768)\n",
            "  Weight 188: tf_bert_for_sequence_classification/bert/encoder/layer_._11/attention/output/dense/bias:0, Shape: (768,)\n",
            "  Weight 189: tf_bert_for_sequence_classification/bert/encoder/layer_._11/attention/output/LayerNorm/gamma:0, Shape: (768,)\n",
            "  Weight 190: tf_bert_for_sequence_classification/bert/encoder/layer_._11/attention/output/LayerNorm/beta:0, Shape: (768,)\n",
            "  Weight 191: tf_bert_for_sequence_classification/bert/encoder/layer_._11/intermediate/dense/kernel:0, Shape: (768, 3072)\n",
            "  Weight 192: tf_bert_for_sequence_classification/bert/encoder/layer_._11/intermediate/dense/bias:0, Shape: (3072,)\n",
            "  Weight 193: tf_bert_for_sequence_classification/bert/encoder/layer_._11/output/dense/kernel:0, Shape: (3072, 768)\n",
            "  Weight 194: tf_bert_for_sequence_classification/bert/encoder/layer_._11/output/dense/bias:0, Shape: (768,)\n",
            "  Weight 195: tf_bert_for_sequence_classification/bert/encoder/layer_._11/output/LayerNorm/gamma:0, Shape: (768,)\n",
            "  Weight 196: tf_bert_for_sequence_classification/bert/encoder/layer_._11/output/LayerNorm/beta:0, Shape: (768,)\n",
            "  Weight 197: tf_bert_for_sequence_classification/bert/pooler/dense/kernel:0, Shape: (768, 768)\n",
            "  Weight 198: tf_bert_for_sequence_classification/bert/pooler/dense/bias:0, Shape: (768,)\n",
            "Layer: dropout_37 (Dropout)\n",
            "Layer: classifier (Dense)\n",
            "  Weight 0: tf_bert_for_sequence_classification/classifier/kernel:0, Shape: (768, 3)\n",
            "  Weight 1: tf_bert_for_sequence_classification/classifier/bias:0, Shape: (3,)\n"
          ]
        }
      ]
    },
    {
      "cell_type": "markdown",
      "source": [
        "## Pruning"
      ],
      "metadata": {
        "id": "sOWOpFA5T61o"
      }
    },
    {
      "cell_type": "markdown",
      "source": [
        "### Magnitude pruning"
      ],
      "metadata": {
        "id": "Wgr21-MTLyhs"
      }
    },
    {
      "cell_type": "code",
      "source": [
        "import copy"
      ],
      "metadata": {
        "id": "AEhsvzE9M50e"
      },
      "execution_count": null,
      "outputs": []
    },
    {
      "cell_type": "code",
      "source": [
        "from sklearn.metrics import classification_report\n",
        "import numpy as np"
      ],
      "metadata": {
        "id": "vxFHz5QKLKUM"
      },
      "execution_count": null,
      "outputs": []
    },
    {
      "cell_type": "code",
      "source": [
        "mg_pruned_model = copy.deepcopy(tf_model)"
      ],
      "metadata": {
        "colab": {
          "base_uri": "https://localhost:8080/"
        },
        "id": "j6UiEA3IM0yk",
        "outputId": "0eae3c6e-5489-42af-bbc4-e04d1fd232c3"
      },
      "execution_count": null,
      "outputs": [
        {
          "output_type": "stream",
          "name": "stderr",
          "text": [
            "/usr/local/lib/python3.11/dist-packages/transformers/generation/tf_utils.py:465: UserWarning: `seed_generator` is deprecated and will be removed in a future version.\n",
            "  warnings.warn(\"`seed_generator` is deprecated and will be removed in a future version.\", UserWarning)\n"
          ]
        }
      ]
    },
    {
      "cell_type": "code",
      "source": [
        "def prune_weights(weights, pruning_rate):\n",
        "    flat_weights = np.abs(weights.flatten())\n",
        "    threshold = np.percentile(flat_weights, pruning_rate * 100)\n",
        "    pruned_weights = np.where(np.abs(weights) < threshold, 0, weights)\n",
        "    print(type(weights), len(weights))\n",
        "    return pruned_weights\n",
        "\n",
        "def apply_pruning_to_model(model, pruning_rate):\n",
        "    zero_count = 0\n",
        "    total_count = 0\n",
        "\n",
        "    if hasattr(model, 'bert') and hasattr(model.bert, 'encoder'):\n",
        "        encoder = model.bert.encoder\n",
        "        for layer in encoder.layer:\n",
        "            # attention\n",
        "            if hasattr(layer, 'attention'):\n",
        "                attention = layer.attention\n",
        "                # Прунинг для query, key, value\n",
        "                if hasattr(attention, 'query'):\n",
        "                    weights = attention.query.kernel.numpy()\n",
        "                    pruned_weights = prune_weights(weights, pruning_rate)\n",
        "                    attention.query.kernel.assign(pruned_weights)\n",
        "                    zero_count += np.sum(weights == 0)\n",
        "                    total_count += weights.size\n",
        "                if hasattr(attention, 'key'):\n",
        "                    weights = attention.key.kernel.numpy()\n",
        "                    pruned_weights = prune_weights(weights, pruning_rate)\n",
        "                    attention.key.kernel.assign(pruned_weights)\n",
        "                    zero_count += np.sum(weights == 0)\n",
        "                    total_count += weights.size\n",
        "                if hasattr(attention, 'value'):\n",
        "                    weights = attention.value.kernel.numpy()\n",
        "                    pruned_weights = prune_weights(weights, pruning_rate)\n",
        "                    attention.value.kernel.assign(pruned_weights)\n",
        "                    zero_count += np.sum(weights == 0)\n",
        "                    total_count += weights.size\n",
        "\n",
        "                # output dense\n",
        "                if hasattr(attention, 'output') and hasattr(attention.output, 'dense'):\n",
        "                    weights = attention.output.dense.kernel.numpy()\n",
        "                    pruned_weights = prune_weights(weights, pruning_rate)\n",
        "                    attention.output.dense.kernel.assign(pruned_weights)\n",
        "                    zero_count += np.sum(weights == 0)\n",
        "                    total_count += weights.size\n",
        "\n",
        "            # intermediate dense\n",
        "            if hasattr(layer, 'intermediate') and hasattr(layer.intermediate, 'dense'):\n",
        "                weights = layer.intermediate.dense.kernel.numpy()\n",
        "                pruned_weights = prune_weights(weights, pruning_rate)\n",
        "                layer.intermediate.dense.kernel.assign(pruned_weights)\n",
        "                zero_count += np.sum(weights == 0)\n",
        "                total_count += weights.size\n",
        "\n",
        "            # output dense\n",
        "            if hasattr(layer, 'output') and hasattr(layer.output, 'dense'):\n",
        "                weights = layer.output.dense.kernel.numpy()\n",
        "                pruned_weights = prune_weights(weights, pruning_rate)\n",
        "                layer.output.dense.kernel.assign(pruned_weights)\n",
        "                zero_count += np.sum(weights == 0)\n",
        "                total_count += weights.size\n",
        "    print(f\"Нулевых весов: {zero_count} из {total_count}, ({zero_count / total_count * 100:.2f}%)\")\n",
        "    return model"
      ],
      "metadata": {
        "id": "6igH3XdDZxlo"
      },
      "execution_count": null,
      "outputs": []
    },
    {
      "cell_type": "code",
      "source": [
        "pruning_rate = 0.25\n",
        "\n",
        "mg_pruned_model_1 = apply_pruning_to_model(mg_pruned_model, pruning_rate)\n",
        "mg_pruned_model_1.summary()"
      ],
      "metadata": {
        "colab": {
          "base_uri": "https://localhost:8080/"
        },
        "id": "7kBwovmIMbYQ",
        "outputId": "f9cce834-a71d-432b-84b1-591e8c30bd5e"
      },
      "execution_count": null,
      "outputs": [
        {
          "output_type": "stream",
          "name": "stdout",
          "text": [
            "<class 'numpy.ndarray'> 768\n",
            "<class 'numpy.ndarray'> 768\n",
            "<class 'numpy.ndarray'> 768\n",
            "<class 'numpy.ndarray'> 768\n",
            "<class 'numpy.ndarray'> 768\n",
            "<class 'numpy.ndarray'> 768\n",
            "<class 'numpy.ndarray'> 768\n",
            "<class 'numpy.ndarray'> 768\n",
            "<class 'numpy.ndarray'> 768\n",
            "<class 'numpy.ndarray'> 768\n",
            "<class 'numpy.ndarray'> 768\n",
            "<class 'numpy.ndarray'> 768\n",
            "Нулевых весов: 7077888 из 28311552, (25.00%)\n",
            "Model: \"tf_bert_for_sequence_classification_2\"\n",
            "_________________________________________________________________\n",
            " Layer (type)                Output Shape              Param #   \n",
            "=================================================================\n",
            " bert (TFBertMainLayer)      multiple                  177853440 \n",
            "                                                                 \n",
            " dropout_113 (Dropout)       multiple                  0         \n",
            "                                                                 \n",
            " classifier (Dense)          multiple                  2307      \n",
            "                                                                 \n",
            "=================================================================\n",
            "Total params: 177855747 (678.47 MB)\n",
            "Trainable params: 177855747 (678.47 MB)\n",
            "Non-trainable params: 0 (0.00 Byte)\n",
            "_________________________________________________________________\n"
          ]
        }
      ]
    },
    {
      "cell_type": "markdown",
      "source": [
        "### evaluation"
      ],
      "metadata": {
        "id": "DV-CAyBPOZtG"
      }
    },
    {
      "cell_type": "code",
      "source": [
        "evaluator = Evaluator_tf(mg_pruned_model_1)\n",
        "print(evaluator.eval(test_texts, test_labels))"
      ],
      "metadata": {
        "colab": {
          "base_uri": "https://localhost:8080/"
        },
        "id": "5S1xTdrDwtAg",
        "outputId": "a6618c42-5d31-4310-bc87-dc84784b3658"
      },
      "execution_count": null,
      "outputs": [
        {
          "output_type": "stream",
          "name": "stdout",
          "text": [
            "              precision    recall  f1-score   support\n",
            "\n",
            "    negative       0.79      0.92      0.85       344\n",
            "     neutral       0.96      0.91      0.93      1395\n",
            "    positive       0.62      0.70      0.66       140\n",
            "\n",
            "   micro avg       0.89      0.89      0.89      1879\n",
            "   macro avg       0.79      0.84      0.81      1879\n",
            "weighted avg       0.90      0.89      0.90      1879\n",
            " samples avg       0.89      0.89      0.89      1879\n",
            "\n"
          ]
        }
      ]
    },
    {
      "cell_type": "code",
      "source": [
        "mg_pruned_model_1.save_weights('/content/drive/MyDrive/weights/mg_pruned_senti_classification_3_weights.h5')"
      ],
      "metadata": {
        "id": "8sWS7FV7Mbhq"
      },
      "execution_count": null,
      "outputs": []
    },
    {
      "cell_type": "markdown",
      "source": [
        "Для сравнения результаты полной модели\n",
        "\n",
        " ![image.png](data:image/png;base64,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)"
      ],
      "metadata": {
        "id": "uzV5o_3liO2x"
      }
    },
    {
      "cell_type": "markdown",
      "source": [
        "### accuracy & time"
      ],
      "metadata": {
        "id": "k4u5Tk_bz77u"
      }
    },
    {
      "cell_type": "code",
      "source": [
        "import timeit\n",
        "\n",
        "def measure_time_with_timeit(func, *args, number=1, **kwargs):\n",
        "\n",
        "    result = func(*args, **kwargs)\n",
        "    elapsed_time = timeit.timeit(lambda: func(*args, **kwargs), number=number) / number\n",
        "\n",
        "    return result, elapsed_time"
      ],
      "metadata": {
        "id": "zXFiZA_B0B49"
      },
      "execution_count": null,
      "outputs": []
    },
    {
      "cell_type": "code",
      "source": [
        "evaluator = Evaluator_tf(tf_model)\n",
        "result, elapsed_time = measure_time_with_timeit(evaluator.eval, test_texts, test_labels, number=3)\n",
        "print(f\"Результат: {result}, Среднее время выполнения: {elapsed_time:.6f} секунд\")"
      ],
      "metadata": {
        "colab": {
          "base_uri": "https://localhost:8080/"
        },
        "id": "aEcRlPVfseKp",
        "outputId": "a521eb03-c767-44a7-a404-c945918ec593"
      },
      "execution_count": null,
      "outputs": [
        {
          "output_type": "stream",
          "name": "stdout",
          "text": [
            "Результат:               precision    recall  f1-score   support\n",
            "\n",
            "    negative       0.81      0.89      0.85       344\n",
            "     neutral       0.96      0.91      0.93      1395\n",
            "    positive       0.58      0.74      0.65       140\n",
            "\n",
            "   micro avg       0.89      0.89      0.89      1879\n",
            "   macro avg       0.78      0.85      0.81      1879\n",
            "weighted avg       0.90      0.89      0.90      1879\n",
            " samples avg       0.89      0.89      0.89      1879\n",
            ", Среднее время выполнения: 35.127375 секунд\n"
          ]
        }
      ]
    },
    {
      "cell_type": "code",
      "source": [
        "evaluator = Evaluator_tf(mg_pruned_model_1)\n",
        "result, elapsed_time = measure_time_with_timeit(evaluator.eval, test_texts, test_labels, number=3)\n",
        "print(f\"Результат: {result}, Среднее время выполнения: {elapsed_time:.6f} секунд\")"
      ],
      "metadata": {
        "colab": {
          "base_uri": "https://localhost:8080/"
        },
        "id": "nB0zmytq0tZF",
        "outputId": "adc0f245-402c-4dc3-e179-b54f60e1e4f1"
      },
      "execution_count": null,
      "outputs": [
        {
          "output_type": "stream",
          "name": "stdout",
          "text": [
            "Результат:               precision    recall  f1-score   support\n",
            "\n",
            "    negative       0.79      0.92      0.85       344\n",
            "     neutral       0.96      0.91      0.93      1395\n",
            "    positive       0.62      0.70      0.66       140\n",
            "\n",
            "   micro avg       0.89      0.89      0.89      1879\n",
            "   macro avg       0.79      0.84      0.81      1879\n",
            "weighted avg       0.90      0.89      0.90      1879\n",
            " samples avg       0.89      0.89      0.89      1879\n",
            ", Среднее время выполнения: 33.352417 секунд\n"
          ]
        }
      ]
    },
    {
      "cell_type": "code",
      "source": [
        "import time\n",
        "import numpy as np\n",
        "\n",
        "vectorizer = Vectorizer()\n",
        "X_ids = []\n",
        "X_masks = []\n",
        "for text in test_texts[:10]:\n",
        "    _, input_ids, input_masks, _ = vectorizer.vectorize(text, np.zeros([1, 3]))\n",
        "    X_ids.append(np.array(input_ids))\n",
        "    X_masks.append(np.array(input_masks))\n",
        "\n",
        "input_data = [np.asarray(X_ids, dtype='int32'), np.asarray(X_masks, dtype='int32')]\n",
        "X_ids = np.asarray(X_ids, dtype='int32')\n",
        "X_masks = np.asarray(X_masks, dtype='int32')\n",
        "\n",
        "for model in [tf_model, mg_pruned_model_1, mg_pruned_model_2]:\n",
        "  preds = model(input_data)[0]\n",
        "  max_index = np.argmax(preds, axis=1)\n",
        "  label_one_hot = np.eye(3)[max_index]\n",
        "\n",
        "  execution_times = []\n",
        "\n",
        "  for i in range(10):\n",
        "      start_time = time.time()\n",
        "      model.predict([X_ids[i:i+1], X_masks[i:i+1]], verbose=0)\n",
        "      end_time = time.time()\n",
        "      execution_times.append(end_time - start_time)\n",
        "\n",
        "  # Вычисляем среднее время выполнения\n",
        "  average_execution_time = np.mean(execution_times)\n",
        "\n",
        "  print(f\"Среднее время выполнения predict: {average_execution_time:.4f} секунд\")\n",
        "\n",
        "  #all_y_true = test_labels[:10]\n",
        "  #all_y_pred = label_one_hot\n",
        "\n",
        "  #report = classification_report(all_y_true, all_y_pred, target_names=['negative', 'neutral', 'positive'])\n",
        "  #print(report)\n"
      ],
      "metadata": {
        "colab": {
          "base_uri": "https://localhost:8080/"
        },
        "id": "UsSlH_qHBork",
        "outputId": "73b2c0f6-6f78-44f1-828b-4ae9b031fdb6"
      },
      "execution_count": null,
      "outputs": [
        {
          "output_type": "stream",
          "name": "stdout",
          "text": [
            "Среднее время выполнения predict: 0.0817 секунд\n",
            "Среднее время выполнения predict: 0.0784 секунд\n",
            "Среднее время выполнения predict: 0.0786 секунд\n"
          ]
        }
      ]
    },
    {
      "cell_type": "markdown",
      "source": [
        "## Clustering"
      ],
      "metadata": {
        "id": "6G9Gu4W4uJV3"
      }
    },
    {
      "cell_type": "code",
      "source": [
        "!pip install -q tensorflow-model-optimization"
      ],
      "metadata": {
        "colab": {
          "base_uri": "https://localhost:8080/"
        },
        "id": "ViJfDc2_xCqG",
        "outputId": "5f3153ea-81a1-449e-d15f-edc5c8f05ad4"
      },
      "execution_count": null,
      "outputs": [
        {
          "output_type": "stream",
          "name": "stdout",
          "text": [
            "\u001b[2K     \u001b[90m━━━━━━━━━━━━━━━━━━━━━━━━━━━━━━━━━━━━━━━━\u001b[0m \u001b[32m61.0/61.0 kB\u001b[0m \u001b[31m3.3 MB/s\u001b[0m eta \u001b[36m0:00:00\u001b[0m\n",
            "\u001b[2K   \u001b[90m━━━━━━━━━━━━━━━━━━━━━━━━━━━━━━━━━━━━━━━━\u001b[0m \u001b[32m242.5/242.5 kB\u001b[0m \u001b[31m9.3 MB/s\u001b[0m eta \u001b[36m0:00:00\u001b[0m\n",
            "\u001b[2K   \u001b[90m━━━━━━━━━━━━━━━━━━━━━━━━━━━━━━━━━━━━━━━━\u001b[0m \u001b[32m18.3/18.3 MB\u001b[0m \u001b[31m95.0 MB/s\u001b[0m eta \u001b[36m0:00:00\u001b[0m\n",
            "\u001b[?25h\u001b[31mERROR: pip's dependency resolver does not currently take into account all the packages that are installed. This behaviour is the source of the following dependency conflicts.\n",
            "thinc 8.3.6 requires numpy<3.0.0,>=2.0.0, but you have numpy 1.26.4 which is incompatible.\u001b[0m\u001b[31m\n",
            "\u001b[0m"
          ]
        }
      ]
    },
    {
      "cell_type": "code",
      "source": [
        "!pip uninstall numpy\n",
        "!pip install numpy==2.1.0"
      ],
      "metadata": {
        "id": "0wh1GBUBKU2j"
      },
      "execution_count": null,
      "outputs": []
    },
    {
      "cell_type": "code",
      "source": [
        "! pip install numpy"
      ],
      "metadata": {
        "id": "MXDMLQffq_ZH"
      },
      "execution_count": null,
      "outputs": []
    },
    {
      "cell_type": "code",
      "source": [
        "import tensorflow_model_optimization as tfmot"
      ],
      "metadata": {
        "id": "c3KH6ZMMuMxx"
      },
      "execution_count": null,
      "outputs": []
    },
    {
      "cell_type": "markdown",
      "source": [
        "### Preparing model"
      ],
      "metadata": {
        "id": "A9LvtUeMvDG-"
      }
    },
    {
      "cell_type": "code",
      "execution_count": null,
      "metadata": {
        "id": "mWtOwBqRvDG_"
      },
      "outputs": [],
      "source": [
        "import torch\n",
        "import tensorflow as tf\n",
        "from transformers import BertModel, BertConfig, BertForSequenceClassification, TFBertForSequenceClassification, BertTokenizer"
      ]
    },
    {
      "cell_type": "code",
      "source": [
        "def get_model(model_name):\n",
        "    if model_name == 'tf_bert_for_sequence_classification':\n",
        "        config = BertConfig.from_pretrained('DeepPavlov/rubert-base-cased', from_pt=True, num_labels=3)\n",
        "        tf_model = TFBertForSequenceClassification.from_pretrained(\n",
        "            \"DeepPavlov/rubert-base-cased\",\n",
        "            from_pt=True,\n",
        "            config=config\n",
        "        )\n",
        "        return tf_model"
      ],
      "metadata": {
        "id": "6-f66dI8vDHA"
      },
      "execution_count": null,
      "outputs": []
    },
    {
      "cell_type": "code",
      "source": [
        "pretrained_model = get_model('tf_bert_for_sequence_classification')"
      ],
      "metadata": {
        "colab": {
          "base_uri": "https://localhost:8080/"
        },
        "id": "I5Um16vYvMwk",
        "outputId": "303e4ffd-0887-47ce-c4fb-3a4737464101"
      },
      "execution_count": null,
      "outputs": [
        {
          "output_type": "stream",
          "name": "stderr",
          "text": [
            "Some weights of the PyTorch model were not used when initializing the TF 2.0 model TFBertForSequenceClassification: ['bert.embeddings.position_ids']\n",
            "- This IS expected if you are initializing TFBertForSequenceClassification from a PyTorch model trained on another task or with another architecture (e.g. initializing a TFBertForSequenceClassification model from a BertForPreTraining model).\n",
            "- This IS NOT expected if you are initializing TFBertForSequenceClassification from a PyTorch model that you expect to be exactly identical (e.g. initializing a TFBertForSequenceClassification model from a BertForSequenceClassification model).\n",
            "Some weights or buffers of the TF 2.0 model TFBertForSequenceClassification were not initialized from the PyTorch model and are newly initialized: ['classifier.weight', 'classifier.bias']\n",
            "You should probably TRAIN this model on a down-stream task to be able to use it for predictions and inference.\n"
          ]
        }
      ]
    },
    {
      "cell_type": "code",
      "source": [
        "def apply_clustering_to_model(model):\n",
        "    clustering_params = {\n",
        "        'number_of_clusters': 32,\n",
        "        'cluster_centroids_init': tfmot.clustering.keras.CentroidInitialization.LINEAR\n",
        "    }\n",
        "    for layer in model.layers:\n",
        "        if hasattr(model, 'bert') and hasattr(model.bert, 'encoder'):\n",
        "            encoder = model.bert.encoder\n",
        "            for layer in encoder.layer:\n",
        "                # attention\n",
        "                if hasattr(layer, 'attention'):\n",
        "                    attention = layer.attention.self_attention\n",
        "                    # query, key, value\n",
        "                    if hasattr(attention, 'query'):\n",
        "                        attention.query = tfmot.clustering.keras.cluster_weights(attention.query, **clustering_params)\n",
        "                        # print(attention.query)\n",
        "                    if hasattr(attention, 'key'):\n",
        "                        attention.key = tfmot.clustering.keras.cluster_weights(attention.key, **clustering_params)\n",
        "                        # print(attention.key)\n",
        "                    if hasattr(attention, 'value'):\n",
        "                        attention.value = tfmot.clustering.keras.cluster_weights(attention.value, **clustering_params)\n",
        "                        # print(attention.value)\n",
        "                # intermediate dense\n",
        "                if hasattr(layer, 'intermediate') and hasattr(layer.intermediate, 'dense'):\n",
        "                    layer.intermediate.dense = tfmot.clustering.keras.cluster_weights(layer.intermediate.dense, **clustering_params)\n",
        "                # output dense\n",
        "                # if hasattr(attention, 'output') and hasattr(attention.output, 'dense'):\n",
        "                #     attention.output.dense = tfmot.clustering.keras.cluster_weights(attention.output.dense, **clustering_params)\n",
        "\n",
        "    return model"
      ],
      "metadata": {
        "id": "4_MDmWy6uTP8"
      },
      "execution_count": null,
      "outputs": []
    },
    {
      "cell_type": "code",
      "source": [
        "pretrained_model = tf_model\n",
        "clustered_model = apply_clustering_to_model(pretrained_model)"
      ],
      "metadata": {
        "id": "9LjkSXN9mszr"
      },
      "execution_count": null,
      "outputs": []
    },
    {
      "cell_type": "markdown",
      "source": [
        "### Fine-tuning"
      ],
      "metadata": {
        "id": "2NRwQrHZvje_"
      }
    },
    {
      "cell_type": "code",
      "source": [
        "class Trainer:\n",
        "\n",
        "    def __init__(self, vectorizer, samples_train, samples_dev, model, class_weights_dict, path_to_weights, batch_size=12, epochs=10, patience=3):\n",
        "        self._vectorizer = vectorizer\n",
        "        self._model = model\n",
        "\n",
        "        self._batch_size = batch_size\n",
        "        self._epochs = epochs\n",
        "        self._patience = patience\n",
        "\n",
        "        self.class_weights_dict = class_weights_dict\n",
        "        self._path_to_weights = path_to_weights\n",
        "\n",
        "        self._model.load_weights(self._path_to_weights)\n",
        "\n",
        "        self._samples_train = samples_train\n",
        "        self._samples_dev = samples_dev\n",
        "\n",
        "        print(f'{len(self._samples_train)} train samples, {len(self._samples_dev)} val samples')\n",
        "\n",
        "        self._steps_per_epoch = int(len(self._samples_train) / self._batch_size)\n",
        "        self._validation_steps = int(len(self._samples_dev) / self._batch_size)\n",
        "\n",
        "        self._num_of_train_samples = self._steps_per_epoch * self._batch_size\n",
        "        self._num_of_val_samples = self._validation_steps * self._batch_size\n",
        "\n",
        "    def _generate_samples(self, samples, num_of_samples):\n",
        "        i = 0\n",
        "        while True:\n",
        "            batch_samples = samples[i:i + self._batch_size]\n",
        "            texts = [sample[0] for sample in batch_samples]\n",
        "            labels = [sample[1] for sample in batch_samples]\n",
        "            X_ids = []\n",
        "            X_masks = []\n",
        "            y = []\n",
        "            i += self._batch_size\n",
        "            for text, token_labels in zip(texts, labels):\n",
        "                _, input_ids, input_masks, tag = self._vectorizer.vectorize(text, token_labels)\n",
        "                X_ids.append(np.array(input_ids))\n",
        "                y.append(tag)\n",
        "                X_masks.append(np.array(input_masks))\n",
        "            yield [np.asarray(X_ids, dtype='int32'), np.asarray(X_masks, dtype='int32')], np.array(y)\n",
        "            if i == num_of_samples:\n",
        "                i = 0\n",
        "\n",
        "    def train(self):\n",
        "        saver = tf.keras.callbacks.ModelCheckpoint(\n",
        "            self._path_to_weights,\n",
        "            monitor='val_loss',\n",
        "            verbose=1,\n",
        "            save_best_only=True,\n",
        "            mode='auto',\n",
        "            save_weights_only=True\n",
        "        )\n",
        "        stopper = tf.keras.callbacks.EarlyStopping(\n",
        "            monitor='val_loss',\n",
        "            patience=self._patience,\n",
        "            verbose=1,\n",
        "            mode='auto'\n",
        "        )\n",
        "        self._model.compile(\n",
        "            optimizer=tf.keras.optimizers.Adam(learning_rate=1e-5),\n",
        "            loss=tf.keras.losses.CategoricalCrossentropy(),\n",
        "            metrics=[tf.keras.metrics.CategoricalAccuracy()]\n",
        "        )\n",
        "        history = self._model.fit(\n",
        "            self._generate_samples(self._samples_train, self._num_of_train_samples),\n",
        "            epochs=self._epochs,\n",
        "            validation_data=self._generate_samples(self._samples_dev, self._num_of_val_samples),\n",
        "            steps_per_epoch=self._steps_per_epoch,\n",
        "            validation_steps=self._validation_steps,\n",
        "            verbose=1,\n",
        "            callbacks=[saver, stopper],\n",
        "            class_weight=self.class_weights_dict\n",
        "        )\n",
        "        np.save('history.npy', history.history)\n",
        "        return history"
      ],
      "metadata": {
        "id": "JwneZcaXvgLn"
      },
      "execution_count": null,
      "outputs": []
    },
    {
      "cell_type": "code",
      "source": [
        "class Vectorizer:\n",
        "\n",
        "    def __init__(self):\n",
        "        self._tokenizer = BertTokenizer.from_pretrained('DeepPavlov/rubert-base-cased',\n",
        "                                                        do_lower_case=False)\n",
        "        self._max_length = 128\n",
        "\n",
        "    def vectorize(self, text, label):\n",
        "        try:\n",
        "            tokenized_text, input_masks = self._tokenize(text)\n",
        "        except:\n",
        "            tokenized_text, input_masks = [], []\n",
        "\n",
        "        input_ids = self._tokenizer.convert_tokens_to_ids(tokenized_text)\n",
        "\n",
        "        if isinstance(label, np.ndarray):\n",
        "          tag = label\n",
        "        else:\n",
        "          print('Here is the error!')\n",
        "\n",
        "        input_ids = self._pad(input_ids)\n",
        "        input_masks = self._pad(input_masks)\n",
        "\n",
        "        return tokenized_text, input_ids, input_masks, tag\n",
        "\n",
        "    def _pad(self, input):\n",
        "        if len(input) >= self._max_length:\n",
        "            return input[:self._max_length]\n",
        "        while len(input) < self._max_length:\n",
        "            input.append(0)\n",
        "        return input\n",
        "\n",
        "    def _tokenize(self, text):\n",
        "        tokenized_text = self._tokenizer.tokenize(text)\n",
        "\n",
        "        inputs = self._tokenizer.encode_plus(\n",
        "            tokenized_text,\n",
        "            is_pretokenized=True,\n",
        "            return_attention_mask=True,\n",
        "            max_length=self._max_length,\n",
        "            truncation=True\n",
        "        )\n",
        "\n",
        "        return tokenized_text, inputs['attention_mask']"
      ],
      "metadata": {
        "id": "V9Dt5tlxv1Lt"
      },
      "execution_count": null,
      "outputs": []
    },
    {
      "cell_type": "code",
      "source": [
        "vectorizer = Vectorizer()"
      ],
      "metadata": {
        "colab": {
          "base_uri": "https://localhost:8080/",
          "height": 113,
          "referenced_widgets": [
            "6be9720efdc347cebbf8ac8eb5117e17",
            "112070dce4a44ae69a4ecadbff03cef7",
            "6033e3b4e97f473dba89eea895f64293",
            "8c6f13f4aa02423ba38cd3f87eafaca5",
            "fe96dfbd47614bd7b71a2ead146b6f66",
            "84f24b837654443284d0e32a5961cae1",
            "fc6963df8f75490284205d45b1beb923",
            "d4c07fefbf2d4252b912b941fcd0f9f3",
            "2501d7bc4af3406490a83a83f8bd48c6",
            "4e09ff7ddf494b668b100138aa19f477",
            "e07a1f04d1314f5db75d913e3cb8e267",
            "8ac13f7ecd4b4de6b485847df05921a8",
            "9e6aceca00344983942c189fb53cbc65",
            "800d8033224d4c3ea40b31055cf73d1b",
            "17a58edfb7d647fe89e02924d46b7d8d",
            "28db6f6746b2461fb7471a05819c780e",
            "73a17a3a21db4440a1b8fbf2dfd6bc3c",
            "6807b16ed7b84732af7a588e639a845b",
            "a7aec6181bab4bc3ab9023a0144774d3",
            "1c4b5670eb5640bf9b540d25272ba56d",
            "73dc1d30d5784bed81551432da87fb9b",
            "dc9685650c9d4e299213a76217901de2",
            "c35eb9200bbc41da8e5c00994d547963",
            "e05c9c9173734576a3b7bc2e41557f7c",
            "7297d958d1b04f2cabcec589bdfdb524",
            "6bdb9cf2b25540d68c3a6027061ab8fd",
            "4b5c59ccb7bf44438477e8eca42d27c4",
            "d023dfdd229c48d287c3288ceed1a5a0",
            "de21b468c7b24c089baee06cf07bd15c",
            "3266f0eddc40496d8b8a3b6c96fe6c97",
            "7f605fdfaa444207a66ce0f7252d1212",
            "fc183d4b102441e0bf6e538c9b7df6ea",
            "c62a3e3fd8dd4ab09a6d008eb6bd9798"
          ]
        },
        "id": "HMOzMbXVv1OR",
        "outputId": "2f9b4489-d647-4d5a-e04c-5c457b11b052"
      },
      "execution_count": null,
      "outputs": [
        {
          "output_type": "display_data",
          "data": {
            "text/plain": [
              "tokenizer_config.json:   0%|          | 0.00/24.0 [00:00<?, ?B/s]"
            ],
            "application/vnd.jupyter.widget-view+json": {
              "version_major": 2,
              "version_minor": 0,
              "model_id": "6be9720efdc347cebbf8ac8eb5117e17"
            }
          },
          "metadata": {}
        },
        {
          "output_type": "display_data",
          "data": {
            "text/plain": [
              "vocab.txt:   0%|          | 0.00/1.65M [00:00<?, ?B/s]"
            ],
            "application/vnd.jupyter.widget-view+json": {
              "version_major": 2,
              "version_minor": 0,
              "model_id": "8ac13f7ecd4b4de6b485847df05921a8"
            }
          },
          "metadata": {}
        },
        {
          "output_type": "display_data",
          "data": {
            "text/plain": [
              "special_tokens_map.json:   0%|          | 0.00/112 [00:00<?, ?B/s]"
            ],
            "application/vnd.jupyter.widget-view+json": {
              "version_major": 2,
              "version_minor": 0,
              "model_id": "c35eb9200bbc41da8e5c00994d547963"
            }
          },
          "metadata": {}
        }
      ]
    },
    {
      "cell_type": "code",
      "source": [
        "# from sklearn.utils.class_weight import compute_class_weight\n",
        "# import numpy as np\n",
        "\n",
        "# class_weights = compute_class_weight('balanced', classes=np.unique(labels), y=labels)\n",
        "# class_weights_dict = dict(enumerate(class_weights))\n",
        "class_weights_dict = {0: 1.8222739619712844, 1: 0.44909864677473343, 2: 4.453295400663822}"
      ],
      "metadata": {
        "id": "rizS11iWwITS"
      },
      "execution_count": null,
      "outputs": []
    },
    {
      "cell_type": "code",
      "source": [
        "import tensorflow.compat.v1 as tf\n",
        "import numpy as np"
      ],
      "metadata": {
        "id": "Mu_NPJJ72N4d"
      },
      "execution_count": null,
      "outputs": []
    },
    {
      "cell_type": "code",
      "source": [
        "trainer = Trainer(\n",
        "        vectorizer=vectorizer,\n",
        "        samples_train=train_samples,\n",
        "        samples_dev=dev_samples,\n",
        "        model=clustered_model,\n",
        "        class_weights_dict = class_weights_dict,\n",
        "        path_to_weights='v2_clustered_senti_classification.weights.h5',\n",
        "        epochs=5\n",
        "    )\n",
        "trainer.train()"
      ],
      "metadata": {
        "colab": {
          "base_uri": "https://localhost:8080/"
        },
        "id": "rfGZcJLYvoXG",
        "outputId": "71f1da26-6095-49ee-dd5f-fe20ce10aa93"
      },
      "execution_count": null,
      "outputs": [
        {
          "output_type": "stream",
          "name": "stdout",
          "text": [
            "5263 train samples, 2250 val samples\n",
            "Epoch 1/5\n",
            "438/438 [==============================] - ETA: 0s - loss: 6.1127 - categorical_accuracy: 0.7578\n",
            "Epoch 1: val_loss improved from inf to 12.09576, saving model to v2_clustered_senti_classification.weights.h5\n"
          ]
        },
        {
          "output_type": "stream",
          "name": "stderr",
          "text": [
            "/usr/local/lib/python3.11/dist-packages/transformers/generation/tf_utils.py:465: UserWarning: `seed_generator` is deprecated and will be removed in a future version.\n",
            "  warnings.warn(\"`seed_generator` is deprecated and will be removed in a future version.\", UserWarning)\n"
          ]
        },
        {
          "output_type": "stream",
          "name": "stdout",
          "text": [
            "\b\b\b\b\b\b\b\b\b\b\b\b\b\b\b\b\b\b\b\b\b\b\b\b\b\b\b\b\b\b\b\b\b\b\b\b\b\b\b\b\b\b\b\b\b\b\b\b\b\b\b\b\b\b\b\b\b\b\b\b\b\b\b\b\b\b\b\b\b\b\b\b\b\b\b\b\b\b\b\b\b\b\b\b\b\b\b\b\b\b\b\b\b\b\b\b\r438/438 [==============================] - 427s 908ms/step - loss: 6.1127 - categorical_accuracy: 0.7578 - val_loss: 12.0958 - val_categorical_accuracy: 0.7504\n",
            "Epoch 2/5\n",
            "438/438 [==============================] - ETA: 0s - loss: 5.8063 - categorical_accuracy: 0.7382\n",
            "Epoch 2: val_loss did not improve from 12.09576\n",
            "438/438 [==============================] - 378s 864ms/step - loss: 5.8063 - categorical_accuracy: 0.7382 - val_loss: 12.0958 - val_categorical_accuracy: 0.7504\n",
            "Epoch 3/5\n",
            "438/438 [==============================] - ETA: 0s - loss: 5.6487 - categorical_accuracy: 0.7382\n",
            "Epoch 3: val_loss did not improve from 12.09576\n",
            "438/438 [==============================] - 379s 865ms/step - loss: 5.6487 - categorical_accuracy: 0.7382 - val_loss: 12.0958 - val_categorical_accuracy: 0.7504\n",
            "Epoch 4/5\n",
            "438/438 [==============================] - ETA: 0s - loss: 5.8935 - categorical_accuracy: 0.7382\n",
            "Epoch 4: val_loss improved from 12.09576 to 12.09575, saving model to v2_clustered_senti_classification.weights.h5\n",
            "438/438 [==============================] - 390s 891ms/step - loss: 5.8935 - categorical_accuracy: 0.7382 - val_loss: 12.0958 - val_categorical_accuracy: 0.7504\n",
            "Epoch 5/5\n",
            "202/438 [============>.................] - ETA: 2:46 - loss: 5.7741 - categorical_accuracy: 0.7545"
          ]
        }
      ]
    },
    {
      "cell_type": "code",
      "source": [
        "import matplotlib.pyplot as plt\n",
        "import numpy as np\n",
        "\n",
        "history = np.load('history.npy',allow_pickle='TRUE').item()\n",
        "plt.plot([l for l in history['loss']])\n",
        "plt.show()"
      ],
      "metadata": {
        "id": "os4y2YQ34rpB"
      },
      "execution_count": null,
      "outputs": []
    },
    {
      "cell_type": "code",
      "source": [
        "clustered_model.summary()"
      ],
      "metadata": {
        "id": "zKrAhig_5Nnm"
      },
      "execution_count": null,
      "outputs": []
    },
    {
      "cell_type": "code",
      "source": [
        "import numpy as np\n",
        "\n",
        "def verify_clustering(model):\n",
        "    print(\"Проверка кластеризации:\")\n",
        "    for i, layer in enumerate(model.bert.encoder.layer[:1]):\n",
        "        layer = layer.attention.self_attention.query\n",
        "        print(f\"\\nlayer_{i}.attention.self_attention.query:\")\n",
        "        print(f\"Тип слоя: {type(layer)}\")\n",
        "        print(f\"Layer: {layer.name} ({layer.__class__.__name__})\")\n",
        "        print(f\"Есть ли _cluster_centroids: {hasattr(layer, '_cluster_centroids')}\")\n",
        "\n",
        "        if hasattr(layer, 'weights') and layer.weights:\n",
        "            weight = layer.get_weights()[0]\n",
        "            unique_values = len(np.unique(weight.round(decimals=4)))\n",
        "            print(f\"Уникальных значений в весах: {unique_values}\")\n",
        "\n",
        "        print(\"\\nФактические параметры кластеризации:\")\n",
        "        config = layer.get_config()\n",
        "        print(\"Число кластеров:\", config['number_of_clusters'])\n",
        "        print(\"Метод инициализации:\", config['cluster_centroids_init'])\n",
        "\n",
        "verify_clustering(clustered_model)"
      ],
      "metadata": {
        "id": "TbYuVMd-5Nnm"
      },
      "execution_count": null,
      "outputs": []
    },
    {
      "cell_type": "code",
      "source": [
        "from sklearn.metrics import classification_report\n",
        "import numpy as np\n",
        "\n",
        "class Evaluator_tf:\n",
        "\n",
        "    def __init__(self, model):\n",
        "        self._vectorizer = Vectorizer()\n",
        "        self._model = model\n",
        "        self._model.training = False\n",
        "        self._batch_size = 12\n",
        "\n",
        "    def _predict(self, texts):\n",
        "        all_labels = []\n",
        "\n",
        "        for i in range(0, len(texts), self._batch_size):\n",
        "            batch_texts = texts[i:i + self._batch_size]\n",
        "\n",
        "            X_ids = []\n",
        "            X_masks = []\n",
        "            for text in batch_texts:\n",
        "                _, input_ids, input_masks, _ = self._vectorizer.vectorize(text, np.zeros([1, 3]))\n",
        "                X_ids.append(np.array(input_ids))\n",
        "                X_masks.append(np.array(input_masks))\n",
        "\n",
        "            input = [np.asarray(X_ids, dtype='int32'), np.asarray(X_masks, dtype='int32')]\n",
        "            # print(\"Tensorflow inpyt:\", input)\n",
        "            preds = self._model(input)[0]\n",
        "            # print(\"Tensorflow output:\", self._model(input))\n",
        "            max_index = np.argmax(preds, axis=1)\n",
        "            label_one_hot = np.eye(3)[max_index]\n",
        "            all_labels.extend(label_one_hot)\n",
        "\n",
        "        return np.array(all_labels)\n",
        "\n",
        "    def eval(self, test_texts, test_labels):\n",
        "        all_y_true = test_labels\n",
        "        all_y_pred = self._predict(test_texts)\n",
        "\n",
        "        report = classification_report(all_y_true, all_y_pred, target_names=['negative', 'neutral', 'positive'])\n",
        "        return report"
      ],
      "metadata": {
        "id": "07_DGUND52qn"
      },
      "execution_count": null,
      "outputs": []
    },
    {
      "cell_type": "code",
      "source": [
        "evaluator = Evaluator_tf(clustered_model)\n",
        "print(evaluator.eval(test_texts, test_labels))"
      ],
      "metadata": {
        "id": "cCVpQhXj52qo"
      },
      "execution_count": null,
      "outputs": []
    },
    {
      "cell_type": "markdown",
      "source": [
        "Результаты кластеризованной модели v2"
      ],
      "metadata": {
        "id": "Wo-Wij_W57zK"
      }
    },
    {
      "cell_type": "code",
      "source": [
        "clustered_model.summary()"
      ],
      "metadata": {
        "colab": {
          "base_uri": "https://localhost:8080/"
        },
        "id": "MWmDjxyVwZie",
        "outputId": "4ee78ca3-73dd-4d35-c9ca-eafc29508886"
      },
      "execution_count": null,
      "outputs": [
        {
          "output_type": "stream",
          "name": "stdout",
          "text": [
            "Model: \"tf_bert_for_sequence_classification_1\"\n",
            "_________________________________________________________________\n",
            " Layer (type)                Output Shape              Param #   \n",
            "=================================================================\n",
            " bert (TFBertMainLayer)      multiple                  227400192 \n",
            "                                                                 \n",
            " dropout_75 (Dropout)        multiple                  0         \n",
            "                                                                 \n",
            " classifier (Dense)          multiple                  2307      \n",
            "                                                                 \n",
            "=================================================================\n",
            "Total params: 227402499 (1.03 GB)\n",
            "Trainable params: 177857283 (678.47 MB)\n",
            "Non-trainable params: 49545216 (378.00 MB)\n",
            "_________________________________________________________________\n"
          ]
        }
      ]
    },
    {
      "cell_type": "code",
      "source": [
        "def verify_clustering(model):\n",
        "    print(\"Проверка кластеризации:\")\n",
        "    for i, layer in enumerate(model.bert.encoder.layer[:1]):\n",
        "        layer = layer.attention.self_attention.query\n",
        "        print(f\"\\nСлой {i}:\")\n",
        "        print(f\"Тип слоя: {type(layer)}\")\n",
        "        print(f\"Layer: {layer.name} ({layer.__class__.__name__})\")\n",
        "        print(f\"Есть ли _cluster_centroids: {hasattr(layer, '_cluster_centroids')}\")\n",
        "\n",
        "        if hasattr(layer, 'weights') and layer.weights:\n",
        "            weight = layer.get_weights()[0]\n",
        "            unique_values = len(np.unique(weight.round(decimals=4)))\n",
        "            print(f\"Уникальных значений в весах: {unique_values} (должно быть ≤ 32)\")\n",
        "\n",
        "        print(\"\\nФактические параметры кластеризации:\")\n",
        "        config = layer.get_config()\n",
        "        print(\"Число кластеров:\", config['number_of_clusters'])\n",
        "        print(\"Метод инициализации:\", config['cluster_centroids_init'])\n",
        "\n",
        "verify_clustering(clustered_model)"
      ],
      "metadata": {
        "colab": {
          "base_uri": "https://localhost:8080/"
        },
        "id": "H7S--m1Vm4N3",
        "outputId": "6996be0a-b7d2-40ab-f7a7-dbbcc4c07d85"
      },
      "execution_count": null,
      "outputs": [
        {
          "output_type": "stream",
          "name": "stdout",
          "text": [
            "Проверка кластеризации:\n",
            "\n",
            "Слой 0:\n",
            "Тип слоя: <class 'tensorflow_model_optimization.python.core.clustering.keras.cluster_wrapper.ClusterWeights'>\n",
            "Layer: cluster_query (ClusterWeights)\n",
            "Есть ли _cluster_centroids: False\n",
            "Уникальных значений в весах: 731 (должно быть ≤ 32)\n",
            "\n",
            "Фактические параметры кластеризации:\n",
            "Число кластеров: 32\n",
            "Метод инициализации: CentroidInitialization.LINEAR\n"
          ]
        }
      ]
    },
    {
      "cell_type": "markdown",
      "source": [
        "Результаты кластеризованной модели v1"
      ],
      "metadata": {
        "id": "fMeK6Kws6DhR"
      }
    },
    {
      "cell_type": "code",
      "source": [
        "verify_clustering(pretrained_model)"
      ],
      "metadata": {
        "colab": {
          "base_uri": "https://localhost:8080/"
        },
        "id": "Z_8Z2tJBx1bi",
        "outputId": "0342bd81-5381-4536-f7bf-bba55165c8a6"
      },
      "execution_count": null,
      "outputs": [
        {
          "output_type": "stream",
          "name": "stdout",
          "text": [
            "Проверка кластеризации:\n",
            "\n",
            "Слой 0:\n",
            "Тип слоя: <class 'tf_keras.src.layers.core.dense.Dense'>\n",
            "Layer: query (Dense)\n",
            "Есть ли _cluster_centroids: False\n",
            "Уникальных значений в весах: 3644 (должно быть ≤ 16)\n"
          ]
        }
      ]
    },
    {
      "cell_type": "code",
      "source": [],
      "metadata": {
        "id": "i2YgUlzipuYw"
      },
      "execution_count": null,
      "outputs": []
    }
  ]
}